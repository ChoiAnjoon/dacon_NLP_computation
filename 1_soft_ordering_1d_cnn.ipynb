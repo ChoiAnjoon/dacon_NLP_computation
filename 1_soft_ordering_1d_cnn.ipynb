{
 "cells": [
  {
   "cell_type": "markdown",
   "metadata": {
    "id": "ogzly22BSA9C"
   },
   "source": [
    "# Soft Ordering 1D CNN 모델 코드"
   ]
  },
  {
   "cell_type": "markdown",
   "metadata": {
    "id": "TG50UikAjSgH"
   },
   "source": [
    "## 개발 환경 및 라이브러리 버전\n",
    "- 개발환경: Colab Pro \n",
    "- 런타임 유형: GPU\n",
    "- os: Linux-5.4.104+-x86_64-with-Ubuntu-18.04-bionic\n",
    "- python: 3.7.11 (default, Jul  3 2021, 18:01:19) \n",
    "[GCC 7.5.0]\n",
    "- tensorflow: 2.5.0\n",
    "- tensorflow.keras: 2.5.0\n",
    "- tensorflow_addons: 0.13.0\n",
    "- pandas: 1.1.5\n",
    "- numpy: 1.19.5\n",
    "- sklearn: 0.22.2.post1\n",
    "- kiwipiepy: 0.9.3\n",
    "- tqdm : 4.62.0"
   ]
  },
  {
   "cell_type": "markdown",
   "metadata": {
    "id": "c4Uh9VzNZ7YP"
   },
   "source": [
    "## 구글 드라이브 연결"
   ]
  },
  {
   "cell_type": "code",
   "execution_count": 2,
   "metadata": {
    "colab": {
     "base_uri": "https://localhost:8080/"
    },
    "executionInfo": {
     "elapsed": 323,
     "status": "ok",
     "timestamp": 1629268293512,
     "user": {
      "displayName": "ks l",
      "photoUrl": "",
      "userId": "16305087104321134195"
     },
     "user_tz": -540
    },
    "id": "iMZ66chtsoWs",
    "outputId": "2af3b189-3c52-4398-8bc0-a64f00e97302"
   },
   "outputs": [
    {
     "name": "stdout",
     "output_type": "stream",
     "text": [
      "Drive already mounted at /content/drive; to attempt to forcibly remount, call drive.mount(\"/content/drive\", force_remount=True).\n"
     ]
    }
   ],
   "source": [
    "from google import colab\n",
    "colab.drive.mount(\"/content/drive\")"
   ]
  },
  {
   "cell_type": "markdown",
   "metadata": {
    "id": "0wFnixVgaAPr"
   },
   "source": [
    "## 필요한 패키지 설치하기"
   ]
  },
  {
   "cell_type": "code",
   "execution_count": 3,
   "metadata": {
    "executionInfo": {
     "elapsed": 18318,
     "status": "ok",
     "timestamp": 1629268312379,
     "user": {
      "displayName": "ks l",
      "photoUrl": "",
      "userId": "16305087104321134195"
     },
     "user_tz": -540
    },
    "id": "Zl1V4fCNxLa_"
   },
   "outputs": [],
   "source": [
    "!pip install kiwipiepy==0.9.3 # 한국어 형태소 분석 패키지! 리더보드 재현시 사용한 버전 = 0.9.3\n",
    "!pip install tensorflow-addons \n",
    "colab.output.clear()"
   ]
  },
  {
   "cell_type": "markdown",
   "metadata": {
    "id": "DPcGuPWBRiBc"
   },
   "source": [
    "## 데이터 경로 및 전역 변수 설정\n",
    "- IS_LOAD_WEIGHTS 변수\n",
    "    - True: 리더보드 점수 재현을 위해 모델 가중치 불러옵니다.\n",
    "    - False: 주의!! 모델이 다시 학습합니다. \n",
    "- DATA_PATH 변수\n",
    "    - dacon 에서 제공한 train.csv, test.csv , sample_submission.csv 경로\n",
    "- CLEANED_PATH\n",
    "    - train.csv, test.csv 파일 형태소 분석 완료 파일 저장 경로\n",
    "- SUBMIT_INPUT_PATH 변수\n",
    "    - 최종 앙상블을 위해 추론확률값(npy 형태) 파일을 저장할 경로\n",
    "- SUBMIT_OUTPUT_PATH 변수\n",
    "    - 단독모델 제출파일.csv 저장 경로\n",
    "- MODELS_PATH 변수\n",
    "    - 리더보드 점수를 재현을 위한 모델 가중치 저장 또는 저장된 경로\n",
    "- save_weights_name 변수\n",
    "    - 새로 모델 학습시 가중치 저장할 파일명\n",
    "    - IS_LOAD_WEIGHTS = True 일 경우 해당사항 없음"
   ]
  },
  {
   "cell_type": "code",
   "execution_count": 4,
   "metadata": {
    "executionInfo": {
     "elapsed": 4,
     "status": "ok",
     "timestamp": 1629268312379,
     "user": {
      "displayName": "ks l",
      "photoUrl": "",
      "userId": "16305087104321134195"
     },
     "user_tz": -540
    },
    "id": "ukikyyLORexH"
   },
   "outputs": [],
   "source": [
    "IS_LOAD_WEIGHTS = True\n",
    "\n",
    "DATA_PATH = \"/content/drive/MyDrive/dacon/natural_language_based/root_dir/data/\" # 학습및 테스트 데이터 폴더\n",
    "CLEANED_PATH = \"/content/drive/MyDrive/dacon/natural_language_based/root_dir/cleaned/\" #학습및 테스트 데이터 형태소 분석 완료 파일 저장 폴더\n",
    "SUBMIT_INPUT_PATH = \"/content/drive/MyDrive/dacon/natural_language_based/root_dir/submit/input/\" # 앙상블 하기위해 예측확률 npy 파일 저장 폴더\n",
    "SUBMIT_OUTPUT_PATH = \"/content/drive/MyDrive/dacon/natural_language_based/root_dir/submit/output/\" #  단독 모델 추론 csv 파일 저장 경로\n",
    "MODELS_PATH = \"/content/drive/MyDrive/dacon/natural_language_based/root_dir/models/soft_ordering_1d_cnn/\" # 모델 가중치 저장 또는 불러오는 폴더\n",
    "\n",
    "SEED = 42 # 시드값 전역변수\n",
    "save_weights_name = \"soft_ordering_1d_cnn_weights_new_\" # 새로 모델 학습후 가중치 저장할 파일명"
   ]
  },
  {
   "cell_type": "code",
   "execution_count": 5,
   "metadata": {
    "colab": {
     "base_uri": "https://localhost:8080/",
     "height": 35
    },
    "executionInfo": {
     "elapsed": 4,
     "status": "ok",
     "timestamp": 1629268312380,
     "user": {
      "displayName": "ks l",
      "photoUrl": "",
      "userId": "16305087104321134195"
     },
     "user_tz": -540
    },
    "id": "Vu4eYt1aixct",
    "outputId": "d65b945a-0c20-485c-80c9-425aa6558598"
   },
   "outputs": [
    {
     "data": {
      "application/vnd.google.colaboratory.intrinsic+json": {
       "type": "string"
      },
      "text/plain": [
       "'soft_ordering_1d_cnn_weights_'"
      ]
     },
     "execution_count": 5,
     "metadata": {
      "tags": []
     },
     "output_type": "execute_result"
    }
   ],
   "source": [
    "if IS_LOAD_WEIGHTS:\n",
    "    save_weights_name = \"soft_ordering_1d_cnn_weights_\" # 리더보드 재현을 위한 모델 가중치 파일명\n",
    "\n",
    "save_weights_name"
   ]
  },
  {
   "cell_type": "markdown",
   "metadata": {
    "id": "EOrE0nMjaFZV"
   },
   "source": [
    "## 라이브러리"
   ]
  },
  {
   "cell_type": "code",
   "execution_count": 6,
   "metadata": {
    "colab": {
     "base_uri": "https://localhost:8080/"
    },
    "executionInfo": {
     "elapsed": 2504,
     "status": "ok",
     "timestamp": 1629268314881,
     "user": {
      "displayName": "ks l",
      "photoUrl": "",
      "userId": "16305087104321134195"
     },
     "user_tz": -540
    },
    "id": "Mdvg2OYqT233",
    "outputId": "5c5b329b-9901-45f4-a8ad-0339c50792bd"
   },
   "outputs": [
    {
     "name": "stderr",
     "output_type": "stream",
     "text": [
      "/usr/local/lib/python3.7/dist-packages/tensorflow_addons/utils/ensure_tf_install.py:67: UserWarning: Tensorflow Addons supports using Python ops for all Tensorflow versions above or equal to 2.3.0 and strictly below 2.6.0 (nightly versions are not supported). \n",
      " The versions of TensorFlow you are currently using is 2.6.0 and is not supported. \n",
      "Some things might work, some things might not.\n",
      "If you were to encounter a bug, do not file an issue.\n",
      "If you want to make sure you're using a tested and supported configuration, either change the TensorFlow version or the TensorFlow Addons's version. \n",
      "You can find the compatibility matrix in TensorFlow Addon's readme:\n",
      "https://github.com/tensorflow/addons\n",
      "  UserWarning,\n"
     ]
    },
    {
     "name": "stdout",
     "output_type": "stream",
     "text": [
      "- os: Linux-5.4.104+-x86_64-with-Ubuntu-18.04-bionic\n",
      "- python: 3.7.11 (default, Jul  3 2021, 18:01:19) \n",
      "[GCC 7.5.0]\n",
      "- tensorflow: 2.6.0\n",
      "- tensorflow.keras: 2.6.0\n",
      "- tensorflow_addons: 0.13.0\n",
      "- pandas: 1.1.5\n",
      "- numpy: 1.19.5\n",
      "- sklearn: 0.22.2.post1\n",
      "- kiwipiepy: 0.9.3\n"
     ]
    }
   ],
   "source": [
    "import os\n",
    "import sys\n",
    "import platform\n",
    "import random\n",
    "import math\n",
    "import re\n",
    "import gc\n",
    "\n",
    "\n",
    " \n",
    "import pandas as pd\n",
    "import numpy as np\n",
    "from tqdm import tqdm\n",
    "import matplotlib.pyplot as plt\n",
    " \n",
    "import sklearn \n",
    "from sklearn.preprocessing import MinMaxScaler\n",
    "from sklearn.preprocessing import OneHotEncoder\n",
    "from sklearn.metrics.pairwise import cosine_similarity\n",
    "from sklearn.feature_extraction.text import CountVectorizer  , TfidfVectorizer\n",
    "from sklearn.model_selection import StratifiedKFold , KFold\n",
    "from sklearn.metrics import f1_score\n",
    "from sklearn.metrics import classification_report\n",
    " \n",
    "import tensorflow as tf\n",
    "import tensorflow_addons as tfa\n",
    "\n",
    "import kiwipiepy\n",
    "from kiwipiepy import Kiwi\n",
    "\n",
    "import warnings\n",
    "warnings.filterwarnings(action='ignore')\n",
    " \n",
    "print(f\"- os: {platform.platform()}\")\n",
    "print(f\"- python: {sys.version}\")\n",
    "print(f\"- tensorflow: {tf.__version__}\")\n",
    "print(f\"- tensorflow.keras: {tf.keras.__version__}\")\n",
    "print(f\"- tensorflow_addons: {tfa.__version__}\")\n",
    "print(f\"- pandas: {pd.__version__}\")\n",
    "print(f\"- numpy: {np.__version__}\")\n",
    "print(f\"- sklearn: {sklearn.__version__}\")\n",
    "print(f\"- kiwipiepy: {kiwipiepy.__version__}\")"
   ]
  },
  {
   "cell_type": "markdown",
   "metadata": {
    "id": "gkTjsK44aQd-"
   },
   "source": [
    "## 함수 및 클래스 정의"
   ]
  },
  {
   "cell_type": "code",
   "execution_count": 7,
   "metadata": {
    "colab": {
     "base_uri": "https://localhost:8080/"
    },
    "executionInfo": {
     "elapsed": 17,
     "status": "ok",
     "timestamp": 1629268314881,
     "user": {
      "displayName": "ks l",
      "photoUrl": "",
      "userId": "16305087104321134195"
     },
     "user_tz": -540
    },
    "id": "IPkxaJU-oG1d",
    "outputId": "8f6dd01e-011b-4bd1-85b7-e45e226824c3"
   },
   "outputs": [
    {
     "name": "stdout",
     "output_type": "stream",
     "text": [
      "데이터 프레임을 받아 dictionary 안에 sparse matrix(tdm or tfidf) 와 numpy(지정한 컬럼들) 배열을 넣어 생성하는 클래스\n",
      "\n",
      "    Args:\n",
      "        tdm_list (list): ( tdm 생성할 컬럼명,  max_features ) 의 형태의 tuple을 담은 리스트\n",
      "        tfidf_list (list): ( tfidf 생성할 컬럼명,  max_features ) 의 형태의 tuple을 담은 리스트\n",
      "        token_pattern (str): \"tdm or tfidf\" token_pattern 정규 표현식\n",
      "        cols_not_sparse (list): 데이터 프레임안에 피쳐로 선택하고자 하는 컬럼명 리스트(예를들어 원핫 인코딩된 컬럼 등...)\n",
      " \n",
      "    Attributes:\n",
      "        ...\n",
      "        count_vec (dict): CountVectorizer 객체를 컬럼명 별로 저장\n",
      "        tfidf_vec (dict): TfidfVectorizer 객체를 컬럼명 별로 저장\n",
      "        is_fitted (bool): fit 여부\n",
      "        num_features(int) : 생성 되는 설명변수 개수 \n",
      "\n",
      "    Examples:\n",
      "        >>> max_features = 1000\n",
      "        >>> fg = FeatureGenerator(\n",
      "                                tdm_list = [\n",
      "                                        (\"TDM생성할컬럼명1\",max_features),\n",
      "                                        (\"TDM생성할컬럼명2\",max_features),\n",
      "                                        ...\n",
      "                                ], \n",
      "                                tfidf_list = [\n",
      "                                        (\"tfidf생성할컬럼명1\",max_features),\n",
      "                                        (\"tfidf생성할컬럼명2\",max_features),\n",
      "                                        ...\n",
      "                                ], \n",
      "                                cols_not_sparse =  [\"학습에사용할컬럼명1\",\"학습에사용할컬럼명2\", ...] \n",
      "                  )\n",
      "    \n",
      "         >>> x_train = fg.fit_transform(train) \n",
      "         >>> x_test = fg.transform(test)\n",
      "    \n"
     ]
    }
   ],
   "source": [
    "class FeatureGenerator:\n",
    "    '''데이터 프레임을 받아 dictionary 안에 sparse matrix(tdm or tfidf) 와 numpy(지정한 컬럼들) 배열을 넣어 생성하는 클래스\n",
    "\n",
    "    Args:\n",
    "        tdm_list (list): ( tdm 생성할 컬럼명,  max_features ) 의 형태의 tuple을 담은 리스트\n",
    "        tfidf_list (list): ( tfidf 생성할 컬럼명,  max_features ) 의 형태의 tuple을 담은 리스트\n",
    "        token_pattern (str): \"tdm or tfidf\" token_pattern 정규 표현식\n",
    "        cols_not_sparse (list): 데이터 프레임안에 피쳐로 선택하고자 하는 컬럼명 리스트(예를들어 원핫 인코딩된 컬럼 등...)\n",
    " \n",
    "    Attributes:\n",
    "        ...\n",
    "        count_vec (dict): CountVectorizer 객체를 컬럼명 별로 저장\n",
    "        tfidf_vec (dict): TfidfVectorizer 객체를 컬럼명 별로 저장\n",
    "        is_fitted (bool): fit 여부\n",
    "        num_features(int) : 생성 되는 설명변수 개수 \n",
    "\n",
    "    Examples:\n",
    "        >>> max_features = 1000\n",
    "        >>> fg = FeatureGenerator(\n",
    "                                tdm_list = [\n",
    "                                        (\"TDM생성할컬럼명1\",max_features),\n",
    "                                        (\"TDM생성할컬럼명2\",max_features),\n",
    "                                        ...\n",
    "                                ], \n",
    "                                tfidf_list = [\n",
    "                                        (\"tfidf생성할컬럼명1\",max_features),\n",
    "                                        (\"tfidf생성할컬럼명2\",max_features),\n",
    "                                        ...\n",
    "                                ], \n",
    "                                cols_not_sparse =  [\"학습에사용할컬럼명1\",\"학습에사용할컬럼명2\", ...] \n",
    "                  )\n",
    "    \n",
    "         >>> x_train = fg.fit_transform(train) \n",
    "         >>> x_test = fg.transform(test)\n",
    "    '''\n",
    "\n",
    "    def __init__(self, \n",
    "                 tdm_list = [],\n",
    "                 tfidf_list = [],\n",
    "                  token_pattern = '(?u)\\\\b\\\\w\\\\w+\\\\b',\n",
    "                  cols_not_sparse = []\n",
    "                 ):\n",
    "        \n",
    "        self.tdm_list = tdm_list\n",
    "        self.tfidf_list = tfidf_list\n",
    "        \n",
    "\n",
    "        self.cols_not_sparse = cols_not_sparse\n",
    "    \n",
    "        self.count_vec = {}\n",
    "        self.tfidf_vec = {}\n",
    "\n",
    "        self.is_fitted = False\n",
    "        \n",
    "        self.token_pattern = token_pattern\n",
    "        self.num_features = len(cols_not_sparse)\n",
    "\n",
    "    # private    \n",
    "    def __make_features(self,x):\n",
    "        x_dict = {}\n",
    "        keys = [] \n",
    "\n",
    "        if len(self.cols_not_sparse) > 0:\n",
    "            x_dict[\"cols_not_sparse\"] = x[self.cols_not_sparse].values\n",
    "            keys.append(\"cols_not_sparse\") \n",
    "\n",
    "        for col,_ in self.tdm_list:\n",
    "            tmp = self.count_vec[col].transform(x[col])\n",
    "            x_dict[f\"{col}_tmp\"] = tmp\n",
    "            keys.append(f\"{col}_tmp\")\n",
    "\n",
    "        for col,_ in self.tfidf_list:\n",
    "            tmp = self.tfidf_vec[col].transform(x[col])\n",
    "            x_dict[f\"{col}_tfidf\"] = tmp\n",
    "            keys.append(f\"{col}_tfidf\")\n",
    "        \n",
    "        x_dict[\"keys\"] = keys # key 순서 보존을 위해 저장\n",
    "        return x_dict\n",
    "        \n",
    "    def fit(self,x ):\n",
    "        for col,vec_num in self.tdm_list:\n",
    "            count_vec = CountVectorizer(max_features = vec_num, token_pattern=self.token_pattern)\n",
    "            count_vec.fit(x[col])\n",
    "            self.count_vec[col] = count_vec\n",
    "            self.num_features += len(count_vec.get_feature_names())\n",
    "        \n",
    "        for col,vec_num in self.tfidf_list:\n",
    "            tfidf_vec = TfidfVectorizer(max_features=vec_num , token_pattern=self.token_pattern)\n",
    "            tfidf_vec.fit(x[col])\n",
    "            self.tfidf_vec[col] = tfidf_vec\n",
    "            self.num_features += len(tfidf_vec.get_feature_names())\n",
    "\n",
    "        self.is_fitted =  True\n",
    "        \n",
    "    def fit_transform(self,x):\n",
    "        self.fit(x)\n",
    "        x = self.__make_features(x)\n",
    "        return x\n",
    "\n",
    "    def transform(self,x):\n",
    "        if not self.is_fitted:\n",
    "            print(\"This FeatureGenerator instance is not fitted yet\")\n",
    "            return\n",
    "        x = self.__make_features(x)\n",
    "        return x\n",
    "\n",
    "print(FeatureGenerator.__doc__)"
   ]
  },
  {
   "cell_type": "code",
   "execution_count": 8,
   "metadata": {
    "colab": {
     "base_uri": "https://localhost:8080/"
    },
    "executionInfo": {
     "elapsed": 13,
     "status": "ok",
     "timestamp": 1629268314881,
     "user": {
      "displayName": "ks l",
      "photoUrl": "",
      "userId": "16305087104321134195"
     },
     "user_tz": -540
    },
    "id": "IqDaBkzAoDZ1",
    "outputId": "ffd67f6c-a227-48fc-a38e-7912e08f75de"
   },
   "outputs": [
    {
     "name": "stdout",
     "output_type": "stream",
     "text": [
      "sparse 특성들을 배치단위로 압축을 풀고 일반특성들과 concat 하여 배치단위로 생성하는 Generator 클래스\n",
      "\n",
      "    Args:\n",
      "        x_set (dict): FeatureGenerator로 생성된 피쳐를 담은 dictionary를 넣으면 됨\n",
      "        y (ndarray): label 값 넣으면 됨\n",
      "        len_ (int): 전체 배치 크기 \n",
      "        batch_size (int): 배치 사이즈 넣으면됨\n",
      "        is_train (bool): train set 일 경우 True, 그 외는 False 줘야함\n",
      "        is_test (bool): 모델에 predict 메소드 실행시와 같이 test set 에 대한 추론시 True 줘야함\n",
      "        is_on_epoch_end_shuffle : 에폭이 끝날 때마다 shuffle 여부(is_train = True 일때만 해당)\n",
      "\n",
      "    Attributes:\n",
      "        shape1 (int): 총 피쳐 개수\n",
      "        indices (ndarray): 배치 색인값\n",
      "\n",
      "    Examples:\n",
      "        >>> max_features = 1000\n",
      "        >>> fg = FeatureGenerator(\n",
      "                                tdm_list = [\n",
      "                                        (\"TDM생성할컬럼명1\",max_features),\n",
      "                                        (\"TDM생성할컬럼명2\",max_features),\n",
      "                                        ...\n",
      "                                ], \n",
      "                                tfidf_list = [\n",
      "                                        (\"tfidf생성할컬럼명1\",max_features),\n",
      "                                        (\"tfidf생성할컬럼명2\",max_features),\n",
      "                                        ...\n",
      "                                ], \n",
      "                                cols_not_sparse =  [\"학습에사용할컬럼명1\",\"학습에사용할컬럼명2\", ...] \n",
      "                  )\n",
      "    \n",
      "         >>> x_train = fg.fit_transform(train) \n",
      "         >>> x_test = fg.transform(test)\n",
      "\n",
      "         # FeatureGenerator 클래스로 생성한 딕셔너리 데이터를 제너레이터에 넣어야함...\n",
      "         >>> train_gen = DataGenerator(x_train, get_onehot(y_train),len_ = y_train.shape[0] ,batch_size = 128 )\n",
      "         >>> test_gen = DataGenerator(x_test,len_ = x_test.shape[0] ,batch_size = 128 ,is_train = False,is_test = True)\n",
      "    \n"
     ]
    }
   ],
   "source": [
    "class DataGenerator(tf.keras.utils.Sequence):\n",
    "    '''sparse 특성들을 배치단위로 압축을 풀고 일반특성들과 concat 하여 배치단위로 생성하는 Generator 클래스\n",
    "\n",
    "    Args:\n",
    "        x_set (dict): FeatureGenerator로 생성된 피쳐를 담은 dictionary를 넣으면 됨\n",
    "        y (ndarray): label 값 넣으면 됨\n",
    "        len_ (int): 전체 배치 크기 \n",
    "        batch_size (int): 배치 사이즈 넣으면됨\n",
    "        is_train (bool): train set 일 경우 True, 그 외는 False 줘야함\n",
    "        is_test (bool): 모델에 predict 메소드 실행시와 같이 test set 에 대한 추론시 True 줘야함\n",
    "        is_on_epoch_end_shuffle : 에폭이 끝날 때마다 shuffle 여부(is_train = True 일때만 해당)\n",
    "\n",
    "    Attributes:\n",
    "        shape1 (int): 총 피쳐 개수\n",
    "        indices (ndarray): 배치 색인값\n",
    "\n",
    "    Examples:\n",
    "        >>> max_features = 1000\n",
    "        >>> fg = FeatureGenerator(\n",
    "                                tdm_list = [\n",
    "                                        (\"TDM생성할컬럼명1\",max_features),\n",
    "                                        (\"TDM생성할컬럼명2\",max_features),\n",
    "                                        ...\n",
    "                                ], \n",
    "                                tfidf_list = [\n",
    "                                        (\"tfidf생성할컬럼명1\",max_features),\n",
    "                                        (\"tfidf생성할컬럼명2\",max_features),\n",
    "                                        ...\n",
    "                                ], \n",
    "                                cols_not_sparse =  [\"학습에사용할컬럼명1\",\"학습에사용할컬럼명2\", ...] \n",
    "                  )\n",
    "    \n",
    "         >>> x_train = fg.fit_transform(train) \n",
    "         >>> x_test = fg.transform(test)\n",
    "\n",
    "         # FeatureGenerator 클래스로 생성한 딕셔너리 데이터를 제너레이터에 넣어야함...\n",
    "         >>> train_gen = DataGenerator(x_train, get_onehot(y_train),len_ = y_train.shape[0] ,batch_size = 128 )\n",
    "         >>> test_gen = DataGenerator(x_test,len_ = x_test.shape[0] ,batch_size = 128 ,is_train = False,is_test = True)\n",
    "    '''\n",
    "    def __init__(self, x_set, y = None, len_ = 0 ,batch_size = 128 , is_train = True,is_test = False, is_on_epoch_end_shuffle = False):\n",
    "        self.x_set = x_set\n",
    "        self.y = y\n",
    "        self.len_ = len_\n",
    "        self.batch_size = batch_size\n",
    "        self.is_train = is_train\n",
    "        self.is_test = is_test\n",
    "        self.is_on_epoch_end_shuffle = is_on_epoch_end_shuffle\n",
    "\n",
    "        self.shape1 = 0\n",
    "\n",
    "        \n",
    "\n",
    "        for k in self.x_set[\"keys\"]:\n",
    "            self.shape1 += self.x_set[k].shape[1]\n",
    "\n",
    "        \n",
    "        self.indices = np.arange(self.len_)\n",
    "        \n",
    "        if self.is_train:\n",
    "            np.random.shuffle(self.indices)\n",
    " \n",
    "        \n",
    " \n",
    "    def __len__(self):\n",
    "        return math.ceil(self.len_ / self.batch_size)\n",
    " \n",
    "    def __getitem__(self, idx):\n",
    "        inds = self.indices[idx * self.batch_size:(idx + 1) * self.batch_size]\n",
    "\n",
    "        concat_list = []\n",
    "        for k in self.x_set[\"keys\"]:\n",
    "            if k == \"cols_not_sparse\":\n",
    "                concat_list.append(self.x_set[k][inds])\n",
    "            else:\n",
    "                concat_list.append(self.x_set[k][inds].A)\n",
    "\n",
    "        batch_x = np.concatenate(concat_list,axis=1)\n",
    "\n",
    "\n",
    "        if not self.is_test:\n",
    "            batch_y = self.y[inds]\n",
    "            return (batch_x,) , batch_y\n",
    "        else:\n",
    "            return (batch_x,)\n",
    "    \n",
    " \n",
    "    def on_epoch_end(self):\n",
    "        if self.is_on_epoch_end_shuffle:\n",
    "            np.random.shuffle(self.indices)\n",
    "        else:\n",
    "            pass\n",
    "\n",
    "\n",
    "print(DataGenerator.__doc__)"
   ]
  },
  {
   "cell_type": "code",
   "execution_count": 9,
   "metadata": {
    "colab": {
     "base_uri": "https://localhost:8080/"
    },
    "executionInfo": {
     "elapsed": 11,
     "status": "ok",
     "timestamp": 1629268314881,
     "user": {
      "displayName": "ks l",
      "photoUrl": "",
      "userId": "16305087104321134195"
     },
     "user_tz": -540
    },
    "id": "Vp0iTtJ1aNZF",
    "outputId": "3b8770c1-1d59-4d98-ce50-630e96eabe1f"
   },
   "outputs": [
    {
     "name": "stdout",
     "output_type": "stream",
     "text": [
      "시드 고정 함수\n",
      "\n",
      "    Args:\n",
      "        seed (int): 시드값\n",
      "    \n"
     ]
    }
   ],
   "source": [
    "def reset_seeds(seed = 42):\n",
    "    '''시드 고정 함수\n",
    "\n",
    "    Args:\n",
    "        seed (int): 시드값\n",
    "    '''\n",
    "    random.seed(seed)\n",
    "    np.random.seed(seed)\n",
    "    os.environ[\"PYTHONHASHSEED\"] = str(seed)\n",
    "    tf.random.set_seed(seed)\n",
    "    print(f\"RANDOM SEEDS RESET {seed}\")  \n",
    "\n",
    "print(reset_seeds.__doc__)"
   ]
  },
  {
   "cell_type": "code",
   "execution_count": 10,
   "metadata": {
    "colab": {
     "base_uri": "https://localhost:8080/"
    },
    "executionInfo": {
     "elapsed": 10,
     "status": "ok",
     "timestamp": 1629268314882,
     "user": {
      "displayName": "ks l",
      "photoUrl": "",
      "userId": "16305087104321134195"
     },
     "user_tz": -540
    },
    "id": "8l9mgE31n7eT",
    "outputId": "0dc93354-94f8-490a-d25d-a74f3d042f6f"
   },
   "outputs": [
    {
     "name": "stdout",
     "output_type": "stream",
     "text": [
      "Macro-F1 함수\n",
      "\n",
      "    Args:\n",
      "        y_true (ndarray): 정답값\n",
      "        y_pred (ndarray): 예측값\n",
      "    \n",
      "    Returns:\n",
      "        float: Macro-F1 Score\n",
      "    \n"
     ]
    }
   ],
   "source": [
    "def macro_f1(y_true, y_pred):\n",
    "    '''Macro-F1 함수\n",
    "\n",
    "    Args:\n",
    "        y_true (ndarray): 정답값\n",
    "        y_pred (ndarray): 예측값\n",
    "    \n",
    "    Returns:\n",
    "        float: Macro-F1 Score\n",
    "    '''\n",
    "    y_pred = tf.argmax(y_pred,axis=1)\n",
    "    return f1_score(y_true, y_pred, average='macro')\n",
    "\n",
    "print(macro_f1.__doc__)"
   ]
  },
  {
   "cell_type": "code",
   "execution_count": 11,
   "metadata": {
    "colab": {
     "base_uri": "https://localhost:8080/"
    },
    "executionInfo": {
     "elapsed": 9,
     "status": "ok",
     "timestamp": 1629268314882,
     "user": {
      "displayName": "ks l",
      "photoUrl": "",
      "userId": "16305087104321134195"
     },
     "user_tz": -540
    },
    "id": "oZaQT39sn-HG",
    "outputId": "ade19d6b-ff16-428f-97e4-a842621e36a0"
   },
   "outputs": [
    {
     "name": "stdout",
     "output_type": "stream",
     "text": [
      "넘파이 배열 원핫 인코딩 함수\n",
      "    Args:\n",
      "        y (ndarray): 원핫인코딩 하고자하는 배열\n",
      "\n",
      "    Returns:\n",
      "        ndarray: 원핫 인코딩된 넘파일 배열\n",
      "    \n"
     ]
    }
   ],
   "source": [
    "def get_onehot(y):\n",
    "    '''넘파이 배열 원핫 인코딩 함수\n",
    "    Args:\n",
    "        y (ndarray): 원핫인코딩 하고자하는 배열\n",
    "\n",
    "    Returns:\n",
    "        ndarray: 원핫 인코딩된 넘파일 배열\n",
    "    '''\n",
    "    num = np.unique(y, axis=0)\n",
    "    num = num.shape[0]\n",
    "    return np.eye(num)[y]\n",
    "\n",
    "print(get_onehot.__doc__)"
   ]
  },
  {
   "cell_type": "code",
   "execution_count": 12,
   "metadata": {
    "colab": {
     "base_uri": "https://localhost:8080/"
    },
    "executionInfo": {
     "elapsed": 7,
     "status": "ok",
     "timestamp": 1629268314882,
     "user": {
      "displayName": "ks l",
      "photoUrl": "",
      "userId": "16305087104321134195"
     },
     "user_tz": -540
    },
    "id": "fqRjQN6boAfD",
    "outputId": "17519cde-768a-4e71-a171-e403e894c143"
   },
   "outputs": [
    {
     "name": "stdout",
     "output_type": "stream",
     "text": [
      "간단한 언더샘플링 함수\n",
      "    Args:\n",
      "        x (dataframe): 언더 샘플링하고자하는 판다스 데이터프레임\n",
      "\n",
      "    Returns:\n",
      "        dataframe: label이 0인것 중에 동일한 과제명일 경우 첫번째 행만 제외하고 drop 하여 리턴\n",
      "    \n"
     ]
    }
   ],
   "source": [
    "def remove_duplicates(x, seed = 42):\n",
    "    '''간단한 언더샘플링 함수\n",
    "    Args:\n",
    "        x (dataframe): 언더 샘플링하고자하는 판다스 데이터프레임\n",
    "\n",
    "    Returns:\n",
    "        dataframe: label이 0인것 중에 동일한 과제명일 경우 첫번째 행만 제외하고 drop 하여 리턴\n",
    "    '''\n",
    "\n",
    "    tmp1 = x[x[\"label\"] == 0].reset_index(drop=True)\n",
    "    tmp2 = x[x[\"label\"] > 0].reset_index(drop=True)\n",
    "    \n",
    "    tmp1 = tmp1.drop_duplicates(['과제명'], keep='first').reset_index(drop=True)\n",
    "\n",
    "    tmp = pd.concat([tmp1,tmp2]).reset_index(drop=True)\n",
    "\n",
    "    tmp = tmp.sample(frac=1,random_state=seed).reset_index(drop=True)\n",
    "    return tmp\n",
    "\n",
    "print(remove_duplicates.__doc__)"
   ]
  },
  {
   "cell_type": "code",
   "execution_count": 13,
   "metadata": {
    "colab": {
     "base_uri": "https://localhost:8080/"
    },
    "executionInfo": {
     "elapsed": 6,
     "status": "ok",
     "timestamp": 1629268314882,
     "user": {
      "displayName": "ks l",
      "photoUrl": "",
      "userId": "16305087104321134195"
     },
     "user_tz": -540
    },
    "id": "gns5ikKZnSj7",
    "outputId": "520f21f9-433e-45a8-cdc5-22764de49027"
   },
   "outputs": [
    {
     "name": "stdout",
     "output_type": "stream",
     "text": [
      "soft-ordering-1d-cnn 구조를 케라스로 구현한 함수\n",
      "\n",
      "    Args:\n",
      "        x (tensor): 텐서\n",
      "        d_size (int): 첫번째 dense 층의 노드 개수\n",
      "        ch_size (int): 1D CNN 필터 개수\n",
      "        k_size (int): 1D CNN 커널크기 \n",
      "        padding (str): 1D CNN  패딩방식 \n",
      "        dense_shape1 (int): 첫번째 dense 층에서 나온 노드를 1D CNN 에 넣기 위한 Step 사이즈\n",
      "        conv_avg_size (int): Conv1D + AveragePooling1D 의 횟수\n",
      "        conv_size (int): Conv1D의 횟수\n",
      "\n",
      "    Returns:\n",
      "        tensor: (batch, new_steps, filters)\n",
      "    \n"
     ]
    }
   ],
   "source": [
    "def soft_ordering_1d_cnn(x,d_size = 4096, ch_size = 512, k_size = 1,padding='valid', dense_shape1 = 16 ,conv_avg_size = 1 , conv_size = 3):\n",
    "    '''soft-ordering-1d-cnn 구조를 케라스로 구현한 함수\n",
    "\n",
    "    Args:\n",
    "        x (tensor): 텐서\n",
    "        d_size (int): 첫번째 dense 층의 노드 개수\n",
    "        ch_size (int): 1D CNN 필터 개수\n",
    "        k_size (int): 1D CNN 커널크기 \n",
    "        padding (str): 1D CNN  패딩방식 \n",
    "        dense_shape1 (int): 첫번째 dense 층에서 나온 노드를 1D CNN 에 넣기 위한 Step 사이즈\n",
    "        conv_avg_size (int): Conv1D + AveragePooling1D 의 횟수\n",
    "        conv_size (int): Conv1D의 횟수\n",
    "\n",
    "    Returns:\n",
    "        tensor: (batch, new_steps, filters)\n",
    "    '''\n",
    "    x = tf.keras.layers.Dense(d_size, activation=\"relu\")(x)\n",
    "    # x = tf.keras.layers.Dropout(drop_rate)(x)\n",
    "    x = tf.reshape(x,[ -1,dense_shape1,int(d_size / dense_shape1) ])\n",
    "    for _ in range(conv_avg_size):\n",
    "        x = tf.keras.layers.Conv1D(ch_size, k_size, activation=\"relu\", padding=padding)(x)\n",
    "        x = tf.keras.layers.AveragePooling1D(2)(x)\n",
    "\n",
    "    for _ in range(conv_size):\n",
    "        x = tf.keras.layers.Conv1D(ch_size, k_size, activation=\"relu\", padding=padding)(x)\n",
    "    \n",
    "    x = tf.keras.layers.MaxPool1D(2)(x)\n",
    "    \n",
    "    return x\n",
    "\n",
    "print(soft_ordering_1d_cnn.__doc__)"
   ]
  },
  {
   "cell_type": "code",
   "execution_count": 14,
   "metadata": {
    "colab": {
     "base_uri": "https://localhost:8080/"
    },
    "executionInfo": {
     "elapsed": 5,
     "status": "ok",
     "timestamp": 1629268315426,
     "user": {
      "displayName": "ks l",
      "photoUrl": "",
      "userId": "16305087104321134195"
     },
     "user_tz": -540
    },
    "id": "NAGgUIHyncVr",
    "outputId": "7360d8db-48c6-4a2c-d95a-603c4796ea1e"
   },
   "outputs": [
    {
     "name": "stdout",
     "output_type": "stream",
     "text": [
      "최종 모델 함수\n",
      "\n",
      "    Args:\n",
      "        moa_d_size (int): soft_ordering_1d_cnn 함수의 d_size\n",
      "        moa_ch_size (int): soft_ordering_1d_cnn 함수의 ch_size\n",
      "        moa_k_size (int): soft_ordering_1d_cnn 함수의 k_size\n",
      "        moa_dense_shape1 (int): soft_ordering_1d_cnn 함수의 dense_shape1\n",
      "        moa_conv_avg_size (int): soft_ordering_1d_cnn 함수의 conv_avg_size\n",
      "        moa_conv_size (int): soft_ordering_1d_cnn 함수의 conv_size\n",
      "        moa_padding (str): soft_ordering_1d_cnn 함수의 padding\n",
      "        moa_output_type (str): avg , max , flat\n",
      "        final_drop_rate (float): 마지막 drop rate\n",
      "        tab_shape (int): 설명변수 개수\n",
      "        label_smoothing (float): CategoricalCrossentropy label_smoothing\n",
      "        optimizer (str or object): optimizer\n",
      "\n",
      "    Returns:\n",
      "        object: 컴파일된 케라스 모델\n",
      "    \n"
     ]
    }
   ],
   "source": [
    "def build_model( moa_d_size= 2048 ,moa_ch_size=128 , moa_k_size = 1, moa_dense_shape1 = 16 ,moa_conv_avg_size = 1 , moa_conv_size = 3, moa_padding = 'valid',\n",
    "                moa_output_type = \"avg\", final_drop_rate = 0.3,\n",
    "                tab_shape = 60000,  label_smoothing=0. , \n",
    "                 optimizer=\"adam\"):\n",
    "    '''최종 모델 함수\n",
    "\n",
    "    Args:\n",
    "        moa_d_size (int): soft_ordering_1d_cnn 함수의 d_size\n",
    "        moa_ch_size (int): soft_ordering_1d_cnn 함수의 ch_size\n",
    "        moa_k_size (int): soft_ordering_1d_cnn 함수의 k_size\n",
    "        moa_dense_shape1 (int): soft_ordering_1d_cnn 함수의 dense_shape1\n",
    "        moa_conv_avg_size (int): soft_ordering_1d_cnn 함수의 conv_avg_size\n",
    "        moa_conv_size (int): soft_ordering_1d_cnn 함수의 conv_size\n",
    "        moa_padding (str): soft_ordering_1d_cnn 함수의 padding\n",
    "        moa_output_type (str): avg , max , flat\n",
    "        final_drop_rate (float): 마지막 drop rate\n",
    "        tab_shape (int): 설명변수 개수\n",
    "        label_smoothing (float): CategoricalCrossentropy label_smoothing\n",
    "        optimizer (str or object): optimizer\n",
    "\n",
    "    Returns:\n",
    "        object: 컴파일된 케라스 모델\n",
    "    '''\n",
    "    inputs_list = []\n",
    "    \n",
    "\n",
    "    inputs_tab = tf.keras.Input(shape=(tab_shape, ))\n",
    "    inputs_list.append(inputs_tab)\n",
    "    x = inputs_tab\n",
    "    x = soft_ordering_1d_cnn(x, d_size = moa_d_size, ch_size = moa_ch_size, k_size = moa_k_size,padding=moa_padding, dense_shape1 = moa_dense_shape1 ,conv_avg_size = moa_conv_avg_size , conv_size = moa_conv_size)\n",
    "    \n",
    "    if moa_output_type == \"avg\":\n",
    "        x = tf.keras.layers.GlobalAvgPool1D()(x)\n",
    "    if moa_output_type == \"max\":\n",
    "        x = tf.keras.layers.GlobalMaxPool1D()(x)\n",
    "    if moa_output_type == \"flat\":\n",
    "        x = tf.keras.layers.Flatten()(x)\n",
    "\n",
    "    \n",
    "    x = tf.keras.layers.Dropout(final_drop_rate)(x)\n",
    "\n",
    "    outputs = tf.keras.layers.Dense(46,activation=\"softmax\")(x)\n",
    "    \n",
    "    \n",
    "    model = tf.keras.Model(inputs=inputs_list, outputs=outputs)\n",
    "\n",
    "    loss = tf.keras.losses.CategoricalCrossentropy(label_smoothing=label_smoothing)\n",
    "    f1 = tfa.metrics.F1Score(num_classes=46,average='macro')\n",
    "    metrics = ['accuracy',f1]\n",
    "    model.compile(loss=loss, optimizer=optimizer,metrics=metrics)\n",
    "    return model\n",
    "\n",
    "print(build_model.__doc__)"
   ]
  },
  {
   "cell_type": "code",
   "execution_count": 15,
   "metadata": {
    "colab": {
     "base_uri": "https://localhost:8080/"
    },
    "executionInfo": {
     "elapsed": 519,
     "status": "ok",
     "timestamp": 1629268315943,
     "user": {
      "displayName": "ks l",
      "photoUrl": "",
      "userId": "16305087104321134195"
     },
     "user_tz": -540
    },
    "id": "7KiIp3zTULAu",
    "outputId": "be363fe8-cfb8-455e-9926-5068936e5dd4"
   },
   "outputs": [
    {
     "name": "stdout",
     "output_type": "stream",
     "text": [
      "RANDOM SEEDS RESET 42\n"
     ]
    },
    {
     "data": {
      "text/plain": [
       "0"
      ]
     },
     "execution_count": 15,
     "metadata": {
      "tags": []
     },
     "output_type": "execute_result"
    }
   ],
   "source": [
    "reset_seeds(SEED)\n",
    "tqdm.pandas()\n",
    "\n",
    "# 키위 패키지 객체 생성 및 키위 모델준비\n",
    "kiwi = Kiwi()\n",
    "kiwi.prepare()"
   ]
  },
  {
   "cell_type": "markdown",
   "metadata": {
    "id": "w0itfPXclf_k"
   },
   "source": [
    "## 원본 학습 데이터 불러오기"
   ]
  },
  {
   "cell_type": "code",
   "execution_count": 16,
   "metadata": {
    "executionInfo": {
     "elapsed": 14332,
     "status": "ok",
     "timestamp": 1629268330653,
     "user": {
      "displayName": "ks l",
      "photoUrl": "",
      "userId": "16305087104321134195"
     },
     "user_tz": -540
    },
    "id": "xiA3yGJDs1GP"
   },
   "outputs": [],
   "source": [
    "train = pd.read_csv(f'{DATA_PATH}train.csv')\n",
    "test = pd.read_csv(f'{DATA_PATH}test.csv')\n",
    "sample_submission = pd.read_csv(f'{DATA_PATH}sample_submission.csv')"
   ]
  },
  {
   "cell_type": "markdown",
   "metadata": {
    "id": "cc83BGFnxCUo"
   },
   "source": [
    "## 시간 절약을 위해 미리 형태소 분석 처리한 train_pre.csv 와 test_pre.csv 파일을 불러온다\n",
    "- CLEANED_PATH 경로에 형태소 분석 완료한 train_pre.csv와 test_pre.csv 파일이 없을 경우 형태소 분석 시작한다. \n",
    "- 대략 한시간 정도 소요\n",
    "- 형태소 분석 처리한 컬럼은 다음과 같다.\n",
    "    - '사업명' , '내역사업명', '과제명', '요약문_연구목표', '요약문_연구내용', '요약문_기대효과' , '요약문_한글키워드'\n"
   ]
  },
  {
   "cell_type": "code",
   "execution_count": 17,
   "metadata": {
    "colab": {
     "base_uri": "https://localhost:8080/"
    },
    "executionInfo": {
     "elapsed": 29168,
     "status": "ok",
     "timestamp": 1629268359819,
     "user": {
      "displayName": "ks l",
      "photoUrl": "",
      "userId": "16305087104321134195"
     },
     "user_tz": -540
    },
    "id": "3oQE-7U5ayhq",
    "outputId": "06c03efc-0827-41d3-c334-15edc470e179"
   },
   "outputs": [
    {
     "data": {
      "text/plain": [
       "True"
      ]
     },
     "execution_count": 17,
     "metadata": {
      "tags": []
     },
     "output_type": "execute_result"
    }
   ],
   "source": [
    "is_prefiles = True # train_pre.csv , test_pre.csv 파일 존재 여부 체크 변수\n",
    "try:\n",
    "    train = pd.read_csv(f'{CLEANED_PATH}train_pre.csv')\n",
    "    test= pd.read_csv(f'{CLEANED_PATH}test_pre.csv')\n",
    "except FileNotFoundError as e:\n",
    "    is_prefiles = False\n",
    "    print(e)\n",
    "\n",
    "is_prefiles"
   ]
  },
  {
   "cell_type": "code",
   "execution_count": 18,
   "metadata": {
    "executionInfo": {
     "elapsed": 10,
     "status": "ok",
     "timestamp": 1629268359819,
     "user": {
      "displayName": "ks l",
      "photoUrl": "",
      "userId": "16305087104321134195"
     },
     "user_tz": -540
    },
    "id": "-XF2BP9ksNqE"
   },
   "outputs": [],
   "source": [
    "# 형태소 분석을 위한 함수 정의\n",
    "def extract_nvs(txt):\n",
    "    tokens = [\n",
    "          f\"{token}/{pos}\" \n",
    "          for token , pos ,_ ,_ in txt[0][0] \n",
    "            if pos.startswith('N') or pos.startswith('V') or pos == \"SL\"\n",
    "    ]\n",
    "    return \" \".join(tokens)"
   ]
  },
  {
   "cell_type": "markdown",
   "metadata": {
    "id": "Ac4eAB3Tl6jc"
   },
   "source": [
    "- 아래 코드 총 소요시간\n",
    "    \n",
    "    - 100%|██████████| 7/7 [1:02:26<00:00, 535.27s/it] \n",
    "    - 총 60분 정도 소요(Colab Pro 런타임환경 GPU 기준)\n",
    "    - 기존 소요시간 185분정도 였으나 내장함수(map,list)를 이용하여 소요시간 줄임\n"
   ]
  },
  {
   "cell_type": "code",
   "execution_count": 19,
   "metadata": {
    "executionInfo": {
     "elapsed": 9,
     "status": "ok",
     "timestamp": 1629268359819,
     "user": {
      "displayName": "ks l",
      "photoUrl": "",
      "userId": "16305087104321134195"
     },
     "user_tz": -540
    },
    "id": "TMCr7DWdiFUw"
   },
   "outputs": [],
   "source": [
    "if not is_prefiles: # train_pre.csv , test_pre.csv 파일 없을 경우 형태소 분석 진행\n",
    "    train = train.fillna(\"nan\") \n",
    "    test = test.fillna(\"nan\")\n",
    "\n",
    "    cols = ['사업명' , '내역사업명', '과제명', '요약문_연구목표', '요약문_연구내용', '요약문_기대효과' , '요약문_한글키워드']\n",
    "    reg_txt = r\"[^가-힣ㄱ-ㅎㅏ-ㅣa-zA-Z]\" # 한글과 영문자가 아닐경우 공백으로 변경하기 위한 정규식\n",
    "    for col in tqdm(cols): # 컬럼별로 처리\n",
    "        result = kiwi.analyze( train[col].astype(str).str.replace(reg_txt,\" \") )\n",
    "        result = map(extract_nvs , result)\n",
    "        train[f\"{col}_pre\"] = list(result)\n",
    "\n",
    "        result = kiwi.analyze( test[col].astype(str).str.replace(reg_txt,\" \") )\n",
    "        result = map(extract_nvs , result)\n",
    "        test[f\"{col}_pre\"] = list(result)\n",
    "\n",
    "    #저장\n",
    "    train.to_csv(f'{CLEANED_PATH}train_pre.csv', index=False)\n",
    "    test.to_csv(f'{CLEANED_PATH}test_pre.csv', index=False)\n",
    "\n",
    "    #다시 불러오기\n",
    "    train = pd.read_csv(f'{CLEANED_PATH}train_pre.csv')\n",
    "    test = pd.read_csv(f'{CLEANED_PATH}test_pre.csv')"
   ]
  },
  {
   "cell_type": "markdown",
   "metadata": {
    "id": "urRrbi7omTic"
   },
   "source": [
    "## 텍스트컬럼에 대한 간단한 전처리 및 피쳐 추가"
   ]
  },
  {
   "cell_type": "markdown",
   "metadata": {
    "id": "H0XPGXXUTAXo"
   },
   "source": [
    "- 형태소 분석된 컬럼에서 품사 태그 제거하기"
   ]
  },
  {
   "cell_type": "code",
   "execution_count": 20,
   "metadata": {
    "executionInfo": {
     "elapsed": 16254,
     "status": "ok",
     "timestamp": 1629268376064,
     "user": {
      "displayName": "ks l",
      "photoUrl": "",
      "userId": "16305087104321134195"
     },
     "user_tz": -540
    },
    "id": "QynGEPB4A5Ge"
   },
   "outputs": [],
   "source": [
    "cols = ['사업명_pre' , '내역사업명_pre', '과제명_pre', '요약문_연구목표_pre', \n",
    "        '요약문_연구내용_pre', '요약문_기대효과_pre' , '요약문_한글키워드_pre']\n",
    "\n",
    "for col in cols:\n",
    "    train[col] = train[col].str.replace(r\"/[A-Z]+\",\"\")\n",
    "    test[col] = test[col].str.replace(r\"/[A-Z]+\",\"\")"
   ]
  },
  {
   "cell_type": "markdown",
   "metadata": {
    "id": "2KSvmSVSBap4"
   },
   "source": [
    "- 요약문_영문키워드 컬럼에서 숫자 제거"
   ]
  },
  {
   "cell_type": "code",
   "execution_count": 21,
   "metadata": {
    "executionInfo": {
     "elapsed": 504,
     "status": "ok",
     "timestamp": 1629268376566,
     "user": {
      "displayName": "ks l",
      "photoUrl": "",
      "userId": "16305087104321134195"
     },
     "user_tz": -540
    },
    "id": "oFFt6etgTovI"
   },
   "outputs": [],
   "source": [
    "train[\"요약문_영문키워드\"] = train[\"요약문_영문키워드\"].str.replace(r\"[0-9]+\",\"\")\n",
    "test[\"요약문_영문키워드\"] = test[\"요약문_영문키워드\"].str.replace(r\"[0-9]+\",\"\")"
   ]
  },
  {
   "cell_type": "markdown",
   "metadata": {
    "id": "VIwDSCeaUjaN"
   },
   "source": [
    "- \"제출년도\",\"사업_부처명\",\"계속과제여부\" 컬럼에 대해 원핫 인코딩\n",
    "    "
   ]
  },
  {
   "cell_type": "code",
   "execution_count": 22,
   "metadata": {
    "colab": {
     "base_uri": "https://localhost:8080/"
    },
    "executionInfo": {
     "elapsed": 462,
     "status": "ok",
     "timestamp": 1629268377026,
     "user": {
      "displayName": "ks l",
      "photoUrl": "",
      "userId": "16305087104321134195"
     },
     "user_tz": -540
    },
    "id": "a1RTtg7gUhkS",
    "outputId": "9d161391-2396-4493-853a-46ec4c07a77b"
   },
   "outputs": [
    {
     "data": {
      "text/plain": [
       "36"
      ]
     },
     "execution_count": 22,
     "metadata": {
      "tags": []
     },
     "output_type": "execute_result"
    }
   ],
   "source": [
    "# 다음의 컬럼 원핫 인코딩 \n",
    "cols = [\"제출년도\",\"사업_부처명\",\"계속과제여부\"]\n",
    "oh_enc = OneHotEncoder(handle_unknown=\"ignore\")\n",
    "tmp = pd.DataFrame(\n",
    "                oh_enc.fit_transform(train[cols]).toarray(), \n",
    "                columns=oh_enc.get_feature_names(cols)\n",
    "             )\n",
    "\n",
    "train = pd.concat([train,tmp],axis=1)\n",
    "\n",
    "tmp = pd.DataFrame(\n",
    "                oh_enc.transform(test[cols]).toarray(), \n",
    "                columns=oh_enc.get_feature_names(cols)\n",
    "             )\n",
    "test = pd.concat([test,tmp],axis=1)\n",
    "\n",
    "del tmp\n",
    "gc.collect()"
   ]
  },
  {
   "cell_type": "markdown",
   "metadata": {
    "id": "jSbB7WARUsQY"
   },
   "source": [
    "- 원핫 인코딩된 컬럼명 피쳐로 사용하기 위해 cols_not_sparse 리스트에 저장"
   ]
  },
  {
   "cell_type": "code",
   "execution_count": 23,
   "metadata": {
    "colab": {
     "base_uri": "https://localhost:8080/"
    },
    "executionInfo": {
     "elapsed": 5,
     "status": "ok",
     "timestamp": 1629268377027,
     "user": {
      "displayName": "ks l",
      "photoUrl": "",
      "userId": "16305087104321134195"
     },
     "user_tz": -540
    },
    "id": "64bHcRkXUhfo",
    "outputId": "8ef751e6-574b-4f6d-a7fd-73aa9e63b75a"
   },
   "outputs": [
    {
     "data": {
      "text/plain": [
       "['제출년도_2016',\n",
       " '제출년도_2017',\n",
       " '제출년도_2018',\n",
       " '제출년도_2019',\n",
       " '사업_부처명_경찰청',\n",
       " '사업_부처명_과학기술정보통신부',\n",
       " '사업_부처명_교육부',\n",
       " '사업_부처명_국민안전처',\n",
       " '사업_부처명_국토교통부',\n",
       " '사업_부처명_기상청',\n",
       " '사업_부처명_기획재정부',\n",
       " '사업_부처명_농림축산식품부',\n",
       " '사업_부처명_농촌진흥청',\n",
       " '사업_부처명_다부처',\n",
       " '사업_부처명_문화재청',\n",
       " '사업_부처명_문화체육관광부',\n",
       " '사업_부처명_미래창조과학부',\n",
       " '사업_부처명_범부처 사업',\n",
       " '사업_부처명_보건복지부',\n",
       " '사업_부처명_산림청',\n",
       " '사업_부처명_산업통상자원부',\n",
       " '사업_부처명_소방청',\n",
       " '사업_부처명_식품의약품안전처',\n",
       " '사업_부처명_원자력안전위원회',\n",
       " '사업_부처명_중소기업청',\n",
       " '사업_부처명_중소벤처기업부',\n",
       " '사업_부처명_특허청',\n",
       " '사업_부처명_해양경찰청',\n",
       " '사업_부처명_해양수산부',\n",
       " '사업_부처명_행정안전부',\n",
       " '사업_부처명_행정자치부',\n",
       " '사업_부처명_환경부',\n",
       " '계속과제여부_계속',\n",
       " '계속과제여부_신규']"
      ]
     },
     "execution_count": 23,
     "metadata": {
      "tags": []
     },
     "output_type": "execute_result"
    }
   ],
   "source": [
    "cols_not_sparse = oh_enc.get_feature_names(cols).tolist()\n",
    "cols_not_sparse"
   ]
  },
  {
   "cell_type": "markdown",
   "metadata": {
    "id": "lOffyAwpU053"
   },
   "source": [
    "- 임시로 text 컬럼들의 결측치 nan 문자로 대체"
   ]
  },
  {
   "cell_type": "code",
   "execution_count": 24,
   "metadata": {
    "executionInfo": {
     "elapsed": 321,
     "status": "ok",
     "timestamp": 1629268377345,
     "user": {
      "displayName": "ks l",
      "photoUrl": "",
      "userId": "16305087104321134195"
     },
     "user_tz": -540
    },
    "id": "0dCuzAtGT20W"
   },
   "outputs": [],
   "source": [
    "train = train.fillna(\"nan\")\n",
    "test = test.fillna(\"nan\")"
   ]
  },
  {
   "cell_type": "markdown",
   "metadata": {
    "id": "oi8vWj2YjvE6"
   },
   "source": [
    "- 다음의 URL 의 기후기술 분류 체계에서 기술 정의와 기술 키워드 부분을 가져와 txt 파일로 생성함\n",
    "- https://www.ctis.re.kr/ko/techClass/classification.do?key=1141\n",
    "- 중복을 제외하고 29가지의 기술정의와 키워드가 있음"
   ]
  },
  {
   "cell_type": "markdown",
   "metadata": {
    "id": "f4Srw0ZTjyIO"
   },
   "source": [
    "- txt 파일 불러오고 리스트로 변환"
   ]
  },
  {
   "cell_type": "code",
   "execution_count": 25,
   "metadata": {
    "colab": {
     "base_uri": "https://localhost:8080/"
    },
    "executionInfo": {
     "elapsed": 573,
     "status": "ok",
     "timestamp": 1629268377916,
     "user": {
      "displayName": "ks l",
      "photoUrl": "",
      "userId": "16305087104321134195"
     },
     "user_tz": -540
    },
    "id": "m6zFD5xwjuwm",
    "outputId": "c48d669b-18cf-4724-84e1-2d6c770fe156"
   },
   "outputs": [
    {
     "data": {
      "text/plain": [
       "['소듐냉각고속로, 초고온가스로, 핵융합로, 납냉각고속로, 가속기 구동 미임계로, 차세대경수로, 사용 후 핵연료, 순환핵연료주기, 고준위(방사성) 폐기물, 원전 해체(폐로), 파이로 공정, 금속연료, 장수명핵종 변환, 초우란원소, 최종처분, 중간저장',\n",
       " '블랑켓, 삼중수소 연료주기, 저방사화 재료, 동력변환',\n",
       " '고효율발전, 초초임계발전, 가스복합발전, 유동층발전, 가스화연료전지기술, 바이오매스혼소, 순산소연소발전, 고효율가스터빈, 청정석탄기술',\n",
       " '수력, 수차, 발전기, 소수력, 출력',\n",
       " '태양전지, 모듈, 인버터, 실리콘 태양전지, 비실리콘 태양전지, 고효율',\n",
       " '태양열집열, 집광형 태양열, 태양광열 복합, 태양열저장, 태양열 온수, 태양열 난방, 태양열냉방, 태양열 담수, 태양열 산업공정열, 태양열주택, 태양열 지역난방, 집광형 태양열 발전, 태양열 연료',\n",
       " '지열, 지열에너지, 지열발전, 지열직접이용, 심부지열, 지열 냉난방, 지열원 열펌프, 인공 지열저류층 생성기술, 열수자원, 지하 열에너지 저장',\n",
       " '풍력터빈, 풍력발전단지, 육상풍력발전, 해상풍력발전, 부유식풍력발전, 바람자원평가, 바람자원측정, 블레이드, 타워, 기어박스, 발전기, 나셀, 드라이브트레인, 인증, 설계평가, 출력곡선, 출력효율, 실증시험, 실증단지, 저 풍속 형 풍력터빈, 대형풍력터빈, 소형풍력터빈, 수평축 풍력터빈, 수직축풍력터빈, 제어기, 해저케이블, 육상변전소, 해상변전소, 유지보수, 균등화발전단가, 경제성평가, 사업타당성검토',\n",
       " '조류발전, 조력발전, 파력발전, 해수온도차발전, 해수냉난방, 해수염도차발전',\n",
       " '바이오매스, 바이오에너지, 바이오연료, 바이오알코올, 바이오에탄올, 바이오부탄올, 바이오가스, 바이오메탄, 바이오수소, 바이오리파이너리, 바이오디젤, 바이오고탄소연료, 바이오고형연료, 우드칩, 우드팰릿, 전처리, 당화, 리그닌, 리그노셀룰로오스',\n",
       " '폐기물에너지, 폐기물에너지화기술, 폐기물 연료화기술, 고형연료화 기술, 열분해 가스화, 열분해 유화',\n",
       " '수소제조, 수전해, 물분해, 탄화수소 개질, 광화학적 수소제조, 원자력 수소, 생물학적 수소 제조',\n",
       " '연료전지, 고체산화물 연료전지, 세라믹 연료전지, 알카리 연료전지,인산형 연료전지, 용융탄산염 연료전지, 고분자전해질 연료전지, 고분자 연료전지, 직접메탄올 연료전지, 직접탄소 연료전지, 바이오 연료전지',\n",
       " '전력 저장 기술, 전력 저장 시스템, 에너지 저장 시스템, 전력 조절 시스템',\n",
       " '수소저장, 물리흡착, 금속수소화물, 화학수소화물, 수소저장합금, 압축 수소저장, 액화수소저장, 탈수소화, 수소화, 액화저장, 압축저장',\n",
       " '스마트그리드, 지능형 전력망, 지능형 송전 시스템, 지능형 변전 시스템, 광역감시 시스템, 유연전력망',\n",
       " '에너지 관리 시스템, 에너지 저장 장치, 첨단계량인프라, 무정전 전원 장치',\n",
       " '이동성, 접근성, 교통안전, 지능형 교통체계, C-ITS, 배출가스, 교통정보, 교통지정체, 대중교통, 물류, 교통사고, 친환경, 에너지효율, 경량화, 신재생에너지적용, 효율, 연료효율, 배출가스 저감, 전기, 하이브리드, 교통시스템, 자동차, 차세대 자동차, 친환경 선박, 고효율 철도, 가스엔진, 저공해 디젤엔진, 이중연료 엔진, 고효율 동력변환장치, 배기가스 후처리장치, 고효율 모터, 차세대 동력원, 소재 경량화 및 고강도화, 첨단 재료 기술, 지능형 교통정보 시스템, 지능형 물류 시스템, 지능형 항법 시스템',\n",
       " '공정최적화, 탄소중립형 원료, 재생가능 소재 제품, 제조 전과정, 자원 및 에너지 순환, 신혁신공정, 고에너지효율, 재활용 및 재이용, 폐기물 최소화 및 부가가치화, 신재생에너지 유틸리티, 산업간 자원 에너지 순환, 지속가능산업, 에너지효율, 친환경공정, 청정기술, 신공정 기술, 에너지소비 절감, 저온난화 지수, 친환경원료, 기기효율화, 친환경 연료, 폐기물재활용, 전주기평가, 배출가스저감, 폐열회수, 공정최적화, 공정효율, 기기효율, 녹색공정(그린 프로세스)',\n",
       " '건물에너지효율화, 패시브, 액티브, 건물에너지관리, 건물신재생, 벽, 창호, 단열재, 차양, 조명, 자연채광, 인공채광, LED, 설비, 모니터링, 예측, HEMS, BEMS, 건물통합형, 공조, 반송동력(펌프, 팬), 냉난방 (시스템), 건물외피, 고효율 설비, 제로에너지주택, 플러스에너지주택, 생태건축, 패시브하우스, 제로에너지빌딩, 생태산업단지, 자원순환, 제로 에너지, 탄소 중립, 온실가스, 신재생에너지, 그린 리모델링, 자원 재활용, 지속가능, 자원절감, 전과정 평가, 스마트 그리드',\n",
       " '연소후, 연소전, 순산소, 포집, 분리, 흡수, 흡착, 분리막, 이산화탄소, 화학적 전환, 생물학적 전환, 광물화, 이용',\n",
       " '비이산화탄소, 메탄, 아산화질소, 육불화황, 냉매, 불화가스, 발포제, 매립지가스, 혐기성발효, 축산분뇨, 하수슬러지, 질산공정, 반도체 배출가스, 디스플레이 산업, 중전기, 수소불화탄소, 과불화탄소, 삼불화질소, 온난화지수, 비이산화탄소 물질, 불화가스, 플라즈마, 선택적 환원촉매, 재생기, 재생가스, 회수, 저장, 재사용, 재사용순도요구조건, 가스품질검사, 추가처리, 최종처분, 재활용, 흡수 수분, 가스분해 부산물, 이슬점 온도',\n",
       " '작물 생산성, 화학 비료 / 농약, 아열대 작물, 농산물 가공 / 저장 / 유통, 가축 관리, 축산 부산물 / 폐기물, 생물학적 및 비생물학적 스트레스, 유전자원 및 유전개량, 농업생명공학',\n",
       " '정수, 하수, 생활하수, 폐수, 물재이용, 하수재이용, 수자원, 해수담수화, 상수처리, 하수처리, 호소, 하천, 저수지, 유역, 지하수, 수생태계, 수질, 위해성, 생물학적처리, 물리적처리, 화학적처리, 비점오염원, 점오염원, 질소, 인, 미량유해물질, 고도산화, 하수관거, 월류수, 조류, 녹조, 댐, 빗물, 중금속, 총유기탄소, 슬러지, 내분비계장애물질, 물순환, 지표수, 유출수, 홍수, 가뭄, 물공급, 물수요, 수자원통합관리, 스마트워터그리드, 저영향개발, 침출수, 용존산소, 영양물질, 기후변화, 수질개선, 대체 수자원, 물건전성',\n",
       " '지구시스템모델, 지역기후모델, 수치모델링, 이음새 없는 예측, 결합모델, 기후모델, 대기모델, 해양모델, 지면모델, 해빙모델, 생지화학, 기후변화 시나리오, 전망, 과거기후, 규준실험, 탐지, 원인규명, 극한기후, 온실가스, 에어로졸, 기후변동성, 기후민감도, 위성관측, 탄소추적',\n",
       " '아열대화, 해양생태계변화, 해수면 상승, 해수온 상승, 해류변화, 연안재해, 폭풍해일, 침수',\n",
       " '지구온난화, 매개체 전파, 절족동물 매개질환, 뎅기열, 지카바이러스, 말라리아, 수인성질환',\n",
       " '병해충, 산불, 산사태, 산악기상, 소나무, 구상나무, 멸종위기종, 침입외래종,생물계절, 복원, 백두대간, 보호지역, 산림식생대 변화, 산림기상, 산림기후, 산림생태계 적응, 산림병해충관리, 산림재해저감, 도시숲, 산림소득임산물, 산림생물다양성, 산불발생예측, 산지토사 재해예측, 산지홍수피해저감, 탄소흡수증진숲가꾸기, 목재에너지림, 탄소흡수증진사업, 친환경적목재 수확시스템, 해외조림, 경제수종, 바이오매스증진우수수종, 저에너지목조건축, 수확된목제품인벤토리, 목질계바이오알코올, 목질계바이오매스, 목질계 바이오에너지, 북한산림복구, REDD+, 산림탄소상쇄, 산림온실가스, 산림 탄소경영, 임업 산림분야 기후변화영향평가',\n",
       " '신재생에너지 하이브리드 시스템, 저동력소모 장비, 에너지하베스팅, 인공광합성']"
      ]
     },
     "execution_count": 25,
     "metadata": {
      "tags": []
     },
     "output_type": "execute_result"
    }
   ],
   "source": [
    "# 아래는 기술정의와  키워드 병합\n",
    "# f = open(f'{CLEANED_PATH}web_기후기술분류체계.txt','r')\n",
    "# txt = f.read()\n",
    "# f.close()\n",
    "\n",
    "# txt = txt.split(\"\\n\\n\")\n",
    "# txt = [ t.replace(\"\\n\",\" \") for t in txt ]\n",
    "\n",
    "# 아래는 키워드만 추출\n",
    "f = open(f'{CLEANED_PATH}web_기후기술분류체계.txt','r')\n",
    "txt = f.read()\n",
    "f.close()\n",
    "\n",
    "txt = txt.split(\"\\n\")\n",
    "txt = [ t.replace(\"\\n\",\" \") for t in txt ]\n",
    "txt = [ t for t in txt if t != \"\" ]\n",
    "txt = [ t for i,t in enumerate(txt) if i % 2  > 0 ]\n",
    "\n",
    "txt"
   ]
  },
  {
   "cell_type": "markdown",
   "metadata": {
    "id": "NBmI3Mwtj2fy"
   },
   "source": [
    "- web_기후기술분류체계.txt 파일의 NNG 와 NNP 태그 만을 추출하여 형태소분석 진행"
   ]
  },
  {
   "cell_type": "code",
   "execution_count": 26,
   "metadata": {
    "colab": {
     "base_uri": "https://localhost:8080/"
    },
    "executionInfo": {
     "elapsed": 5,
     "status": "ok",
     "timestamp": 1629268377916,
     "user": {
      "displayName": "ks l",
      "photoUrl": "",
      "userId": "16305087104321134195"
     },
     "user_tz": -540
    },
    "id": "TPsnumHAj3kT",
    "outputId": "a1785e04-8272-4e9d-ab4e-41fe9a093d76"
   },
   "outputs": [
    {
     "data": {
      "text/plain": [
       "29"
      ]
     },
     "execution_count": 26,
     "metadata": {
      "tags": []
     },
     "output_type": "execute_result"
    }
   ],
   "source": [
    "def extract_n(txt):\n",
    "    tokens = []\n",
    "    pos_list = [\"NNG\",\"NNP\"]\n",
    "    for token , pos ,_ ,_ in txt[0][0]:\n",
    "        if pos in pos_list:\n",
    "            tokens.append(token)\n",
    "    return \" \".join(tokens)\n",
    "\n",
    "result = kiwi.analyze(txt)\n",
    "map_ = map(extract_n , result)\n",
    "\n",
    "txt_list = list(map_)\n",
    "len(txt_list)"
   ]
  },
  {
   "cell_type": "markdown",
   "metadata": {
    "id": "mXn9j0bOkEzc"
   },
   "source": [
    "- web_기후기술분류체계.txt 파일의 데이터를 tfidf 분석"
   ]
  },
  {
   "cell_type": "code",
   "execution_count": 27,
   "metadata": {
    "executionInfo": {
     "elapsed": 349,
     "status": "ok",
     "timestamp": 1629268378262,
     "user": {
      "displayName": "ks l",
      "photoUrl": "",
      "userId": "16305087104321134195"
     },
     "user_tz": -540
    },
    "id": "5rLflEVykF4U"
   },
   "outputs": [],
   "source": [
    "tv = TfidfVectorizer(max_features=None)\n",
    "txt_vec = tv.fit_transform(txt_list)"
   ]
  },
  {
   "cell_type": "markdown",
   "metadata": {
    "id": "STmdBtxfkQFD"
   },
   "source": [
    "- web_기후기술분류체계.txt 에 포함된 단어만을 이용\n",
    "- web_기후기술분류체계.txt 의 각 분류의 tfidf값과 cols 리스트에 컬럼의 데이터 샘플들의 tfidf값의 코사인 유사도를 피쳐로 추가"
   ]
  },
  {
   "cell_type": "code",
   "execution_count": 28,
   "metadata": {
    "colab": {
     "base_uri": "https://localhost:8080/"
    },
    "executionInfo": {
     "elapsed": 60013,
     "status": "ok",
     "timestamp": 1629268438271,
     "user": {
      "displayName": "ks l",
      "photoUrl": "",
      "userId": "16305087104321134195"
     },
     "user_tz": -540
    },
    "id": "5oxrn-WNkSY-",
    "outputId": "2ae1739c-cbc9-487f-dfbe-beed5e5f741f"
   },
   "outputs": [
    {
     "name": "stderr",
     "output_type": "stream",
     "text": [
      "100%|██████████| 3/3 [00:59<00:00, 19.98s/it]\n"
     ]
    },
    {
     "data": {
      "text/plain": [
       "26"
      ]
     },
     "execution_count": 28,
     "metadata": {
      "tags": []
     },
     "output_type": "execute_result"
    }
   ],
   "source": [
    "cols = [\n",
    "        # '사업명_pre' ,\n",
    "        '내역사업명_pre', \n",
    "        '과제명_pre', \n",
    "        # '요약문_연구목표_pre', \n",
    "        # '요약문_연구내용_pre', \n",
    "        # '요약문_기대효과_pre' ,\n",
    "        '요약문_한글키워드_pre',\n",
    "        ]\n",
    "for col in tqdm(cols):\n",
    "    # web_기후기술분류체계.txt 에 포함된 단어만을 이용하여 학습데이터의 tfidf 분석\n",
    "    tvt = TfidfVectorizer(vocabulary=tv.get_feature_names()) \n",
    "    text_tvt = tvt.fit_transform(train[col])\n",
    "    tmp2 = text_tvt.A\n",
    "\n",
    "    #web_기후기술분류체계.txt의 tfidf 와 학습데이터의 tfidf  간에 코사인 유사도를 구함 \n",
    "    for i,t in enumerate(txt_vec):\n",
    "        similarity_simple_pair = cosine_similarity(t.A, tmp2) \n",
    "        train[f\"{col}_cosine_{i}\"] = similarity_simple_pair.reshape(-1)\n",
    "\n",
    "        cols_not_sparse.append(f\"{col}_cosine_{i}\") # 학습 과정에서 피쳐로 사용하기 위해 컬럼명을 cols_not_sparse 리스트에 저장\n",
    "\n",
    "    # 테스트 데이터 동일하게 진행\n",
    "    text_tvt = tvt.transform(test[col])\n",
    "    tmp2 = text_tvt.A\n",
    "\n",
    "    for i,t in enumerate(txt_vec):\n",
    "        similarity_simple_pair = cosine_similarity(t.A, tmp2)\n",
    "        test[f\"{col}_cosine_{i}\"] = similarity_simple_pair.reshape(-1)\n",
    "\n",
    "\n",
    "del similarity_simple_pair\n",
    "del tmp2\n",
    "del text_tvt\n",
    "gc.collect()"
   ]
  },
  {
   "cell_type": "markdown",
   "metadata": {
    "id": "N-3pMbeVkUIf"
   },
   "source": [
    "- web_기후기술분류체계.txt 에 포함된 단어만을 이용\n",
    "- cols 리스트에 컬럼의 데이터 샘플들의 tdm 을 생성하여 web_기후기술분류체계.txt 의 각 분류의 tfidf값 곱하고 합한 값을 피쳐로 추가\n",
    "- 내적을 이용하여 계산"
   ]
  },
  {
   "cell_type": "code",
   "execution_count": 29,
   "metadata": {
    "colab": {
     "base_uri": "https://localhost:8080/"
    },
    "executionInfo": {
     "elapsed": 8556,
     "status": "ok",
     "timestamp": 1629268446820,
     "user": {
      "displayName": "ks l",
      "photoUrl": "",
      "userId": "16305087104321134195"
     },
     "user_tz": -540
    },
    "id": "a5DajYpCkVak",
    "outputId": "498df269-29ff-4cca-f622-d17e533343f7"
   },
   "outputs": [
    {
     "data": {
      "text/plain": [
       "0"
      ]
     },
     "execution_count": 29,
     "metadata": {
      "tags": []
     },
     "output_type": "execute_result"
    }
   ],
   "source": [
    "cols = [\n",
    "        # '사업명_pre' ,\n",
    "        '내역사업명_pre', \n",
    "        '과제명_pre', \n",
    "        # '요약문_연구목표_pre', \n",
    "        # '요약문_연구내용_pre', \n",
    "        # '요약문_기대효과_pre' ,\n",
    "        '요약문_한글키워드_pre',\n",
    "        ]\n",
    "for col in cols:\n",
    "    # web_기후기술분류체계.txt 에 포함된 단어만을 이용하여 학습데이터의 TDM 생성\n",
    "    cvt = CountVectorizer(vocabulary=tv.get_feature_names())\n",
    "    text_cvt = cvt.fit_transform(train[col])\n",
    "\n",
    "    \n",
    "    tmp2 = txt_vec.A.T # 내적 계산을 위해 web_기후기술분류체계.txt의 tfidf를 transpose\n",
    "    tmp1 = text_cvt.A\n",
    "    tmp = pd.DataFrame(tmp1.dot(tmp2)).add_prefix(f\"{col}_\") # 내적 계산 후 데이터프레임 생성\n",
    "    train = pd.concat([train,tmp],axis=1)\n",
    "    cols_not_sparse.extend(tmp.columns.tolist()) # 학습 과정에서 피쳐로 사용하기 위해 컬럼명을 cols_not_sparse 리스트에 저장\n",
    "\n",
    "    # 테스트 데이터 동일하게 진행\n",
    "    text_cvt = cvt.transform(test[col])\n",
    "    tmp2 = txt_vec.A.T\n",
    "    tmp1 = text_cvt.A\n",
    "    tmp = pd.DataFrame(tmp1.dot(tmp2)).add_prefix(f\"{col}_\")\n",
    "    test = pd.concat([test,tmp],axis=1)\n",
    "\n",
    "\n",
    "del tmp2\n",
    "del tmp1\n",
    "del tmp\n",
    "del text_cvt\n",
    "gc.collect()"
   ]
  },
  {
   "cell_type": "code",
   "execution_count": 30,
   "metadata": {
    "colab": {
     "base_uri": "https://localhost:8080/"
    },
    "executionInfo": {
     "elapsed": 8,
     "status": "ok",
     "timestamp": 1629268446820,
     "user": {
      "displayName": "ks l",
      "photoUrl": "",
      "userId": "16305087104321134195"
     },
     "user_tz": -540
    },
    "id": "FCH1CxDTkdkh",
    "outputId": "c99cf346-2b65-40d9-8e0b-38d6309beb7c"
   },
   "outputs": [
    {
     "data": {
      "text/plain": [
       "451"
      ]
     },
     "execution_count": 30,
     "metadata": {
      "tags": []
     },
     "output_type": "execute_result"
    }
   ],
   "source": [
    "# web_기후기술분류체계.txt의 단어별 tfidf의 sum 값을 딕셔너리로 생성\n",
    "txt_dict = dict( zip( tv.get_feature_names(), txt_vec.A.sum(axis=0) ) )\n",
    "len(txt_dict) "
   ]
  },
  {
   "cell_type": "markdown",
   "metadata": {
    "id": "Vcsc6qiGke4d"
   },
   "source": [
    "- web_기후기술분류체계.txt 에 포함된 단어만을 이용\n",
    "- cols 리스트에 컬럼의 데이터 샘플들의 tdm 을 생성하여 web_기후기술분류체계.txt 의 각 단어의 tfidf값 곱하여 피쳐로 추가"
   ]
  },
  {
   "cell_type": "code",
   "execution_count": 31,
   "metadata": {
    "colab": {
     "base_uri": "https://localhost:8080/"
    },
    "executionInfo": {
     "elapsed": 16115,
     "status": "ok",
     "timestamp": 1629268462932,
     "user": {
      "displayName": "ks l",
      "photoUrl": "",
      "userId": "16305087104321134195"
     },
     "user_tz": -540
    },
    "id": "IuAFMKfYkf7z",
    "outputId": "8cb1dbb7-fea9-48f0-f4d6-c92500fbc86e"
   },
   "outputs": [
    {
     "data": {
      "text/plain": [
       "13"
      ]
     },
     "execution_count": 31,
     "metadata": {
      "tags": []
     },
     "output_type": "execute_result"
    }
   ],
   "source": [
    "cols = [\n",
    "        # '사업명_pre' ,\n",
    "        '내역사업명_pre', \n",
    "        '과제명_pre', \n",
    "        # '요약문_연구목표_pre', \n",
    "        # '요약문_연구내용_pre', \n",
    "        # '요약문_기대효과_pre' ,\n",
    "        '요약문_한글키워드_pre',\n",
    "        ]\n",
    "for col in cols:\n",
    "    # web_기후기술분류체계.txt 에 포함된 단어만을 이용하여 학습데이터의 TDM 생성\n",
    "    cvt = CountVectorizer(vocabulary=txt_dict.keys())\n",
    "    text1_cvt = cvt.fit_transform(train[col])\n",
    "    \n",
    "    tmp = pd.DataFrame(text1_cvt.A,columns=cvt.get_feature_names()) # TDM 데이터 프레임 생성\n",
    "    tmp = tmp.mul(txt_dict.values(),axis=1).add_prefix(f\"{col}_tfidf_score_\") # TDM 행렬에 web_기후기술분류체계.txt의 단어별 tfidf의 sum 값 벡터를 곱하여 피쳐생성\n",
    "    train = pd.concat([train,tmp],axis=1)\n",
    "    cols_not_sparse.extend(tmp.columns.tolist()) # 학습 과정에서 피쳐로 사용하기 위해 컬럼명을 cols_not_sparse 리스트에 저장\n",
    "\n",
    "    # 테스트 데이터 동일하게 진행\n",
    "    text1_cvt = cvt.transform(test[col])\n",
    "    tmp = pd.DataFrame(text1_cvt.A,columns=cvt.get_feature_names())\n",
    "    tmp = tmp.mul(txt_dict.values(),axis=1).add_prefix(f\"{col}_tfidf_score_\")\n",
    "    test = pd.concat([test,tmp],axis=1)\n",
    "\n",
    "\n",
    "del tmp\n",
    "del text1_cvt\n",
    "gc.collect()"
   ]
  },
  {
   "cell_type": "code",
   "execution_count": 32,
   "metadata": {
    "colab": {
     "base_uri": "https://localhost:8080/"
    },
    "executionInfo": {
     "elapsed": 4,
     "status": "ok",
     "timestamp": 1629268462932,
     "user": {
      "displayName": "ks l",
      "photoUrl": "",
      "userId": "16305087104321134195"
     },
     "user_tz": -540
    },
    "id": "gOUNr3wjnoH8",
    "outputId": "ff519cf0-ddf6-4de2-98c4-e88336837680"
   },
   "outputs": [
    {
     "data": {
      "text/plain": [
       "1561"
      ]
     },
     "execution_count": 32,
     "metadata": {
      "tags": []
     },
     "output_type": "execute_result"
    }
   ],
   "source": [
    "len(cols_not_sparse) # 별도로 생성한 피쳐 개수"
   ]
  },
  {
   "cell_type": "markdown",
   "metadata": {
    "id": "e1yfmFwmknqh"
   },
   "source": [
    "- 새로 추가한 피쳐에 대한 스케일링"
   ]
  },
  {
   "cell_type": "code",
   "execution_count": 33,
   "metadata": {
    "executionInfo": {
     "elapsed": 8243,
     "status": "ok",
     "timestamp": 1629268471173,
     "user": {
      "displayName": "ks l",
      "photoUrl": "",
      "userId": "16305087104321134195"
     },
     "user_tz": -540
    },
    "id": "XT2TmJgwNLy4"
   },
   "outputs": [],
   "source": [
    "mins = train[cols_not_sparse].min()\n",
    "sizes = train[cols_not_sparse].max() - mins\n",
    "\n",
    "\n",
    "train[sizes[(sizes > 0)].index] = ( train[sizes[(sizes > 0)].index] -  mins[(sizes > 0)] ) / sizes[(sizes > 0)]\n",
    "test[sizes[(sizes > 0)].index] = ( test[sizes[(sizes > 0)].index] -  mins[(sizes > 0)] ) / sizes[(sizes > 0)]"
   ]
  },
  {
   "cell_type": "markdown",
   "metadata": {
    "id": "8X3OottVVF1I"
   },
   "source": [
    "## 데이터 학습 "
   ]
  },
  {
   "cell_type": "markdown",
   "metadata": {
    "id": "VLgMzcYDVPBp"
   },
   "source": [
    "- 정답 값 "
   ]
  },
  {
   "cell_type": "code",
   "execution_count": 34,
   "metadata": {
    "executionInfo": {
     "elapsed": 8,
     "status": "ok",
     "timestamp": 1629268471174,
     "user": {
      "displayName": "ks l",
      "photoUrl": "",
      "userId": "16305087104321134195"
     },
     "user_tz": -540
    },
    "id": "xQEK7wSaW8iX"
   },
   "outputs": [],
   "source": [
    "y_train = train.label.values # 정답값"
   ]
  },
  {
   "cell_type": "markdown",
   "metadata": {
    "id": "FGqlHFqzVV2_"
   },
   "source": [
    "- 모델 구조 확인"
   ]
  },
  {
   "cell_type": "code",
   "execution_count": 35,
   "metadata": {
    "colab": {
     "base_uri": "https://localhost:8080/",
     "height": 1000
    },
    "executionInfo": {
     "elapsed": 5013,
     "status": "ok",
     "timestamp": 1629268476179,
     "user": {
      "displayName": "ks l",
      "photoUrl": "",
      "userId": "16305087104321134195"
     },
     "user_tz": -540
    },
    "id": "uzqevkAgt16Q",
    "outputId": "55da9dc2-3178-46ab-fe86-5ea25e5a4f12"
   },
   "outputs": [
    {
     "name": "stdout",
     "output_type": "stream",
     "text": [
      "Model: \"model\"\n",
      "_________________________________________________________________\n",
      "Layer (type)                 Output Shape              Param #   \n",
      "=================================================================\n",
      "input_1 (InputLayer)         [(None, 60000)]           0         \n",
      "_________________________________________________________________\n",
      "dense (Dense)                (None, 2048)              122882048 \n",
      "_________________________________________________________________\n",
      "tf.reshape (TFOpLambda)      (None, 16, 128)           0         \n",
      "_________________________________________________________________\n",
      "conv1d (Conv1D)              (None, 16, 128)           16512     \n",
      "_________________________________________________________________\n",
      "average_pooling1d (AveragePo (None, 8, 128)            0         \n",
      "_________________________________________________________________\n",
      "conv1d_1 (Conv1D)            (None, 8, 128)            16512     \n",
      "_________________________________________________________________\n",
      "conv1d_2 (Conv1D)            (None, 8, 128)            16512     \n",
      "_________________________________________________________________\n",
      "conv1d_3 (Conv1D)            (None, 8, 128)            16512     \n",
      "_________________________________________________________________\n",
      "max_pooling1d (MaxPooling1D) (None, 4, 128)            0         \n",
      "_________________________________________________________________\n",
      "global_average_pooling1d (Gl (None, 128)               0         \n",
      "_________________________________________________________________\n",
      "dropout (Dropout)            (None, 128)               0         \n",
      "_________________________________________________________________\n",
      "dense_1 (Dense)              (None, 46)                5934      \n",
      "=================================================================\n",
      "Total params: 122,954,030\n",
      "Trainable params: 122,954,030\n",
      "Non-trainable params: 0\n",
      "_________________________________________________________________\n"
     ]
    },
    {
     "data": {
      "image/png": "[encoded data removed]",
      "text/plain": [
       "<IPython.core.display.Image object>"
      ]
     },
     "execution_count": 35,
     "metadata": {
      "tags": []
     },
     "output_type": "execute_result"
    }
   ],
   "source": [
    "model = build_model()\n",
    "model.summary()\n",
    "tf.keras.utils.plot_model(model, show_shapes=True)"
   ]
  },
  {
   "cell_type": "markdown",
   "metadata": {
    "id": "WciK0jmAhQW2"
   },
   "source": [
    "- 학습 시작\n",
    "    - 리더보드 재현을 위해 모델 가중치를 불러올 경우 모델 학습만 진행 하지 않고 tfidf 피쳐생성 위한 fit 과  모델 하이퍼파라미터 저장만 실행 됩니다.\n",
    "    - 모델을 학습할 경우 Colab Pro GPU & 배치사이즈 64 기준으로 에폭당 60~70초 가량 걸립니다. \n",
    "    - CV 5 fold 로 학습을 진행합니다.(5개의 모델이 생성됩니다.)\n",
    "    - 검증셋에 대하여 Transform 만 진행합니다. 이는 검증셋 에 대해서도 Data Leakage 요소를 제거하여 오버핏을 방지하고 일반화 성능을 높이기 위함 입니다. fit 을 총 5번 하기 때문에 추론 과정에서도 test 셋에 대하여 동일하게 5번 Transform 해서 TTA 효과도 기대합니다."
   ]
  },
  {
   "cell_type": "code",
   "execution_count": 36,
   "metadata": {
    "colab": {
     "base_uri": "https://localhost:8080/"
    },
    "executionInfo": {
     "elapsed": 184055,
     "status": "ok",
     "timestamp": 1629268660226,
     "user": {
      "displayName": "ks l",
      "photoUrl": "",
      "userId": "16305087104321134195"
     },
     "user_tz": -540
    },
    "id": "1jQtjADvvRzd",
    "outputId": "86c8c00d-3c21-4484-dd91-791f4194c075"
   },
   "outputs": [
    {
     "name": "stdout",
     "output_type": "stream",
     "text": [
      "RANDOM SEEDS RESET 42\n",
      "RANDOM SEEDS RESET 42\n",
      "RANDOM SEEDS RESET 42\n",
      "RANDOM SEEDS RESET 42\n",
      "RANDOM SEEDS RESET 42\n"
     ]
    }
   ],
   "source": [
    "is_holdout = False # True 지정시 holdout 으로 만 학습합니다.. 나의 가설이 괜찮은지 holdout 으로 체크해봅니다.\n",
    "model_idx = 0 # 모델 인덱스\n",
    "n_splits = 5 # cv 개수\n",
    " \n",
    "fg_list = []  # tdm or tfidf 등과 같은 테이블형 피쳐를 생성하는 클래스 객체를 저장하기 위한 리스트\n",
    "hp_dict_list = [] # bulid_model 하이퍼파라미터를 저장하기 위한 리스트\n",
    "\n",
    "batch_size = 64 # 배치 사이즈\n",
    "\n",
    "scores = []\n",
    "\n",
    "cv = StratifiedKFold(n_splits=n_splits, shuffle=True, random_state=SEED)\n",
    "for tri, vai in cv.split(train,y_train):\n",
    "    reset_seeds(SEED)\n",
    "    # f1 score 최적의 값을 내놓은 모델 가중치 복구\n",
    "    es = tf.keras.callbacks.EarlyStopping(monitor='val_f1_score', patience=5,mode=\"max\",restore_best_weights=True)\n",
    " \n",
    "    xt = train.iloc[tri].reset_index(drop=True) # 학습셋\n",
    "    xv = train.iloc[vai].reset_index(drop=True) # 검증셋\n",
    "    \n",
    "    yt = y_train[tri] # 학습 정답값\n",
    "    yv = y_train[vai] # 검증 정답값\n",
    " \n",
    "    # 간단한 언더샘플링 시도시 다음의 주석을 풀면 됨\n",
    "    # xt = remove_duplicates(xt) \n",
    "    # yt = xt.label.values\n",
    " \n",
    "    max_features = 10000 # 각 컬럼별 tfidf or tdm 에 대한 max_features \n",
    "    fg = FeatureGenerator(tdm_list = [], # TDM 도 넣어봐서 해보자 (tfidf 와 같은 방식 튜플로 해서 넣으면 됨)\n",
    "                 tfidf_list = [\n",
    "                               (\"사업명_pre\",max_features),  # 주석처리 해서 돌려보자\n",
    "                               (\"내역사업명_pre\",max_features), # 주석처리 해서 돌려보자\n",
    "                               (\"과제명_pre\",max_features), # 주석처리 해서 돌려보자\n",
    "                               (\"요약문_연구목표_pre\",max_features), # 주석처리 해서 돌려보자\n",
    "                               (\"요약문_연구내용_pre\",max_features), # 주석처리 해서 돌려보자\n",
    "                               (\"요약문_기대효과_pre\",max_features), # 주석처리 해서 돌려보자\n",
    "                               (\"요약문_한글키워드_pre\",max_features), # 주석처리 해서 돌려보자\n",
    "                                (\"요약문_영문키워드\",max_features), # 주석처리 해서 돌려보자\n",
    "                               ],\n",
    "                  token_pattern = '(?u)\\\\b\\\\w\\\\w+\\\\b', \n",
    "                  cols_not_sparse =  cols_not_sparse # 컬럼의 원핫 인코딩된 컬럼과 추가로 생성한 피쳐 컬럼 .. (제출년도\",\"사업_부처명\",\"계속과제여부\", ....)\n",
    "                  )\n",
    "    \n",
    "    fg.fit(xt) # 학습 셋만 fit\n",
    "    hp_dict = {\n",
    "        \"moa_d_size\":2048 ,\n",
    "        \"moa_ch_size\":128 , \n",
    "        \"moa_k_size\":1,\n",
    "        \"moa_dense_shape1\":16 ,\n",
    "        \"moa_conv_avg_size\" : 1 , \n",
    "        \"moa_conv_size\" : 3, \n",
    "        \"moa_padding\" : 'valid', # valid , same\n",
    "        \"moa_output_type\" : \"flat\", # avg , max , flat\n",
    "        \"final_drop_rate\" : 0.3,\n",
    "        \"tab_shape\" : fg.num_features, # 테이블형식의 피쳐 개수\n",
    "        \"label_smoothing\" : 0.25,\n",
    "    }\n",
    "    hp_dict_list.append(hp_dict) # 테스트셋 추론시 필요하므로 하이퍼파라미터 저장\n",
    "    fg_list.append(fg) # 테스트셋 추론시 필요하므로 FeatureGenerator 객체 저장\n",
    "\n",
    "    if not IS_LOAD_WEIGHTS: # 재현을 위해 가중치 불러올경우 실행 안함\n",
    "        xt = fg.transform(xt)  # 학습셋 테이블형 피쳐 생성\n",
    "        xv = fg.transform(xv) # 검증셋 테이블형 피쳐 생성 \n",
    "         \n",
    "        # tfidf 피쳐생성시 최대한 많은 단어를 사용하여 학습하고 OOM 방지를 하고 배치 단위로 sparse 데이터를 numpy 로 변환하기위해 제너레이터 클래스 구현하여 학습\n",
    "        # 데이터 제너레이터에 FeatureGenerator 생성된 딕셔너리 데이터 넣기\n",
    "        train_gen = DataGenerator(xt,get_onehot(yt),len_ = yt.shape[0] ,batch_size = batch_size ) # 학습셋\n",
    "        valid_gen = DataGenerator(xv,get_onehot(yv),len_ = yv.shape[0] ,batch_size = batch_size ,is_train = False) # 검증셋은 섞을 필요 없으므로 is_train = False\n",
    "        \n",
    "        print(f\"특성 개수:{train_gen.shape1}\")\n",
    "\n",
    "        model = build_model(**hp_dict)\n",
    "        history = model.fit(train_gen , epochs=50, batch_size= batch_size,callbacks=[es], validation_data=valid_gen\n",
    "                            )\n",
    "\n",
    "        # 모델 가중치 저장\n",
    "        model.save_weights(f\"{MODELS_PATH}{save_weights_name}{model_idx}.h5\")\n",
    "        scores.append(max(history.history[\"val_f1_score\"]))\n",
    "\n",
    "        del model\n",
    "        del train_gen\n",
    "        del valid_gen\n",
    "\n",
    "    del xt\n",
    "    del xv\n",
    "    del yt\n",
    "    del yv\n",
    "    gc.collect()\n",
    "    tf.keras.backend.clear_session()\n",
    "\n",
    "\n",
    "    if is_holdout:\n",
    "        break \n",
    "    \n",
    "    model_idx +=1"
   ]
  },
  {
   "cell_type": "code",
   "execution_count": 37,
   "metadata": {
    "colab": {
     "base_uri": "https://localhost:8080/"
    },
    "executionInfo": {
     "elapsed": 7,
     "status": "ok",
     "timestamp": 1629268660227,
     "user": {
      "displayName": "ks l",
      "photoUrl": "",
      "userId": "16305087104321134195"
     },
     "user_tz": -540
    },
    "id": "mPOMSn0ZJ-01",
    "outputId": "e4070172-89ef-417e-ed82-f1317c2069a7"
   },
   "outputs": [
    {
     "data": {
      "text/plain": [
       "[]"
      ]
     },
     "execution_count": 37,
     "metadata": {
      "tags": []
     },
     "output_type": "execute_result"
    }
   ],
   "source": [
    "scores"
   ]
  },
  {
   "cell_type": "markdown",
   "metadata": {
    "id": "YgS0oT5jzTxQ"
   },
   "source": [
    "- 테스트셋 추론 및 검증점수 확인\n"
   ]
  },
  {
   "cell_type": "code",
   "execution_count": 38,
   "metadata": {
    "colab": {
     "base_uri": "https://localhost:8080/"
    },
    "executionInfo": {
     "elapsed": 322243,
     "status": "ok",
     "timestamp": 1629268982468,
     "user": {
      "displayName": "ks l",
      "photoUrl": "",
      "userId": "16305087104321134195"
     },
     "user_tz": -540
    },
    "id": "NXF147BV45N1",
    "outputId": "8059f36f-a7e1-4c49-ed53-d86d861c25a4"
   },
   "outputs": [
    {
     "name": "stdout",
     "output_type": "stream",
     "text": [
      "- 1 fold score : 0.787227701080918\n",
      "- 2 fold score : 0.7909190887241712\n",
      "- 3 fold score : 0.7920910220394863\n",
      "- 4 fold score : 0.7833582278258887\n",
      "- 5 fold score : 0.7992497248560141\n",
      "--------------------\n",
      "- score mean : 0.7905691529052956\n"
     ]
    }
   ],
   "source": [
    "preds = [] # 각 폴드별 테스트셋에 대하여 예측 확률을 담기 위한 리스트\n",
    "model_idx = 0 \n",
    "scores_valid = [] # 검증 점수 리스트\n",
    "scores_report_list = [] # 클래스 별 평가지표를 담기 위한 리스트\n",
    "\n",
    "cv = StratifiedKFold(n_splits=n_splits, shuffle=True, random_state=SEED)\n",
    "for tri, vai in cv.split(train,y_train):\n",
    "    \n",
    "    model = build_model(**hp_dict_list[model_idx]) # 위에서 저장한 하이퍼 파라미터 세팅\n",
    "    model.load_weights(f\"{MODELS_PATH}{save_weights_name}{model_idx}.h5\") # 저장된 모델 가중치 load\n",
    "\n",
    "\n",
    "    xv = train.iloc[vai].reset_index(drop=True) # 검증셋\n",
    "    yv = y_train[vai] # 검증 정답값\n",
    "\n",
    "    # 테이블형 피쳐 생성\n",
    "    xv = fg_list[model_idx].transform(xv)  # 검증\n",
    "    xte = fg_list[model_idx].transform(test)  # 테스트\n",
    "    \n",
    "    # 제너레이터 객체 생성 \n",
    "    valid_gen = DataGenerator(xv,len_ = yv.shape[0] ,batch_size = batch_size ,is_train = False,is_test=True) # 검증\n",
    "    test_gen = DataGenerator(xte,len_ = test.shape[0] ,batch_size = batch_size ,is_train = False,is_test=True)  # 테스트\n",
    "    \n",
    "    pred_valid = model.predict(valid_gen) # 검증셋 예측\n",
    "    pred_test = model.predict(test_gen) # 테스트셋 예측\n",
    "    \n",
    "    preds.append(pred_test) # 테스트셋 예측확률 저장\n",
    "    \n",
    "    \n",
    "\n",
    "    score = macro_f1(yv,pred_valid) # 검증셋 f1 score\n",
    "    scores_valid.append(score)\n",
    "    print( f\"- {model_idx+1} fold score : {score}\" )\n",
    "    \n",
    "    # 검증셋에 대하여 클래스별 평가지표 \n",
    "    scores_report = classification_report(yv,np.argmax(pred_valid,axis=1),output_dict =True)\n",
    "    scores_report_list.append(scores_report)\n",
    "\n",
    "    del model\n",
    "    del valid_gen\n",
    "    del test_gen\n",
    "    del xv\n",
    "    del yv\n",
    "    del xte\n",
    "    gc.collect()\n",
    "    tf.keras.backend.clear_session()\n",
    " \n",
    "    if is_holdout:\n",
    "        break \n",
    "\n",
    "    model_idx +=1\n",
    " \n",
    "print(\"-\"*20)\n",
    " \n",
    "print( f\"- score mean : {np.mean(scores_valid)}\" )"
   ]
  },
  {
   "cell_type": "markdown",
   "metadata": {
    "id": "WrGOS71v3ko5"
   },
   "source": [
    "- 클래스별 f1 score 확인해보기"
   ]
  },
  {
   "cell_type": "code",
   "execution_count": 39,
   "metadata": {
    "colab": {
     "base_uri": "https://localhost:8080/"
    },
    "executionInfo": {
     "elapsed": 12,
     "status": "ok",
     "timestamp": 1629268982469,
     "user": {
      "displayName": "ks l",
      "photoUrl": "",
      "userId": "16305087104321134195"
     },
     "user_tz": -540
    },
    "id": "IwArd4bS3RZa",
    "outputId": "398da412-dc93-424b-dc7f-de706ae13572"
   },
   "outputs": [
    {
     "name": "stdout",
     "output_type": "stream",
     "text": [
      "0.787227701080918\n",
      "0.7909190887241712\n",
      "0.7920910220394863\n",
      "0.7833582278258887\n",
      "0.7992497248560141\n",
      "====================\n",
      "0 class f1-score: 0.9695623092044083\n",
      "1 class f1-score: 0.9193798907650592\n",
      "2 class f1-score: 0.922926733876257\n",
      "3 class f1-score: 0.7780151656622245\n",
      "4 class f1-score: 0.9673043478260869\n",
      "5 class f1-score: 0.8947183694801512\n",
      "6 class f1-score: 0.8476190476190475\n",
      "7 class f1-score: 0.8381204067250578\n",
      "8 class f1-score: 0.943923503124285\n",
      "9 class f1-score: 0.8224538362792535\n",
      "10 class f1-score: 0.7679458370940808\n",
      "11 class f1-score: 0.6695421663946253\n",
      "12 class f1-score: 0.7017278168757493\n",
      "13 class f1-score: 0.8034296485601985\n",
      "14 class f1-score: 0.8702421869842194\n",
      "15 class f1-score: 0.8424873737373737\n",
      "16 class f1-score: 0.7575893364716895\n",
      "17 class f1-score: 0.526647094397713\n",
      "18 class f1-score: 0.7706912696313645\n",
      "19 class f1-score: 0.8055606768517697\n",
      "20 class f1-score: 0.5351199200009524\n",
      "21 class f1-score: 0.8784491897840576\n",
      "22 class f1-score: 0.7600784200106234\n",
      "23 class f1-score: 0.7866080982432804\n",
      "24 class f1-score: 0.8271758909504536\n",
      "25 class f1-score: 0.6874121169340679\n",
      "26 class f1-score: 0.6889079017672121\n",
      "27 class f1-score: 0.7855400413914524\n",
      "28 class f1-score: 0.7984291839843143\n",
      "29 class f1-score: 0.8375689773403984\n",
      "30 class f1-score: 0.7608732032506454\n",
      "31 class f1-score: 0.8292041603824479\n",
      "32 class f1-score: 0.7236074644608769\n",
      "33 class f1-score: 0.7602131295975603\n",
      "34 class f1-score: 0.8093587336070573\n",
      "35 class f1-score: 0.8262599089222465\n",
      "36 class f1-score: 0.8339772392581051\n",
      "37 class f1-score: 0.8018874377920661\n",
      "38 class f1-score: 0.769883608629151\n",
      "39 class f1-score: 0.8644351082707246\n",
      "40 class f1-score: 0.7638921136008985\n",
      "41 class f1-score: 0.5167695259228441\n",
      "42 class f1-score: 0.6510177404295051\n",
      "43 class f1-score: 0.8818837316243024\n",
      "44 class f1-score: 0.8390404040404039\n",
      "45 class f1-score: 0.7287007658873413\n"
     ]
    }
   ],
   "source": [
    "f1_scores_list = []\n",
    "for scores in scores_report_list:\n",
    "    f1_scores = []\n",
    "    for label in range(46):\n",
    "        f1_scores.append( scores[f\"{label}\"][\"f1-score\"] )\n",
    "    \n",
    "    f1_scores_list.append(f1_scores)\n",
    "    print( np.mean(f1_scores) )\n",
    "\n",
    "print(\"=\"*20)\n",
    "class_scores = np.mean(f1_scores_list,axis=0)\n",
    "for i,s in enumerate(class_scores):\n",
    "    print(f\"{i} class f1-score: {s}\")"
   ]
  },
  {
   "cell_type": "markdown",
   "metadata": {
    "id": "fxCLVNGbaDpf"
   },
   "source": [
    "- 다른 모델과 앙상블 하기위해 SUBMIT_INPUT_PATH 경로에 npy 파일로 저장 "
   ]
  },
  {
   "cell_type": "code",
   "execution_count": 40,
   "metadata": {
    "colab": {
     "base_uri": "https://localhost:8080/"
    },
    "executionInfo": {
     "elapsed": 672,
     "status": "ok",
     "timestamp": 1629268983133,
     "user": {
      "displayName": "ks l",
      "photoUrl": "",
      "userId": "16305087104321134195"
     },
     "user_tz": -540
    },
    "id": "QKOXEo56aCmL",
    "outputId": "e52459a4-a3e1-4caa-9646-142edd0bbdcc"
   },
   "outputs": [
    {
     "name": "stdout",
     "output_type": "stream",
     "text": [
      "끝\n"
     ]
    }
   ],
   "source": [
    "np.save(f'{SUBMIT_INPUT_PATH}{save_weights_name}', preds)\n",
    "print(\"끝\")"
   ]
  },
  {
   "cell_type": "markdown",
   "metadata": {
    "id": "wJHXiJRgdNHR"
   },
   "source": [
    "## 개인모델 점수 확인할 경우 is_to_csv 변수 값을 True 변경 후  실행"
   ]
  },
  {
   "cell_type": "code",
   "execution_count": 41,
   "metadata": {
    "executionInfo": {
     "elapsed": 8,
     "status": "ok",
     "timestamp": 1629268983134,
     "user": {
      "displayName": "ks l",
      "photoUrl": "",
      "userId": "16305087104321134195"
     },
     "user_tz": -540
    },
    "id": "WXcch7F52ToK"
   },
   "outputs": [],
   "source": [
    "is_to_csv = False"
   ]
  },
  {
   "cell_type": "code",
   "execution_count": 42,
   "metadata": {
    "executionInfo": {
     "elapsed": 8,
     "status": "ok",
     "timestamp": 1629268983134,
     "user": {
      "displayName": "ks l",
      "photoUrl": "",
      "userId": "16305087104321134195"
     },
     "user_tz": -540
    },
    "id": "2yCwHhpu0Jir"
   },
   "outputs": [],
   "source": [
    "if is_to_csv:\n",
    "    pred = np.mean(preds,axis=0)\n",
    "    print(len(preds))\n",
    "    pred = tf.argmax(pred,axis=1)\n",
    "    pred"
   ]
  },
  {
   "cell_type": "code",
   "execution_count": 43,
   "metadata": {
    "executionInfo": {
     "elapsed": 7,
     "status": "ok",
     "timestamp": 1629268983134,
     "user": {
      "displayName": "ks l",
      "photoUrl": "",
      "userId": "16305087104321134195"
     },
     "user_tz": -540
    },
    "id": "jsABD-b42a_a"
   },
   "outputs": [],
   "source": [
    "if is_to_csv:\n",
    "    sample_submission[\"label\"] = pred\n",
    "    sample_submission"
   ]
  },
  {
   "cell_type": "code",
   "execution_count": 44,
   "metadata": {
    "executionInfo": {
     "elapsed": 7,
     "status": "ok",
     "timestamp": 1629268983134,
     "user": {
      "displayName": "ks l",
      "photoUrl": "",
      "userId": "16305087104321134195"
     },
     "user_tz": -540
    },
    "id": "MhiX6W3sT2UN"
   },
   "outputs": [],
   "source": [
    "if is_to_csv:\n",
    "    sample_submission.to_csv(f'{SUBMIT_OUTPUT_PATH}{save_weights_name}.csv', index=False)"
   ]
  },
  {
   "cell_type": "code",
   "execution_count": null,
   "metadata": {
    "id": "DtTIDJYM4O7R"
   },
   "outputs": [],
   "source": []
  }
 ],
 "metadata": {
  "accelerator": "GPU",
  "colab": {
   "collapsed_sections": [],
   "name": "soft_ordering_1d_cnn.ipynb",
   "provenance": []
  },
  "kernelspec": {
   "display_name": "Python 3",
   "language": "python",
   "name": "python3"
  },
  "language_info": {
   "codemirror_mode": {
    "name": "ipython",
    "version": 3
   },
   "file_extension": ".py",
   "mimetype": "text/x-python",
   "name": "python",
   "nbconvert_exporter": "python",
   "pygments_lexer": "ipython3",
   "version": "3.7.9"
  },
  "toc": {
   "base_numbering": 1,
   "nav_menu": {},
   "number_sections": true,
   "sideBar": true,
   "skip_h1_title": false,
   "title_cell": "Table of Contents",
   "title_sidebar": "Contents",
   "toc_cell": false,
   "toc_position": {},
   "toc_section_display": true,
   "toc_window_display": false
  },
  "varInspector": {
   "cols": {
    "lenName": 16,
    "lenType": 16,
    "lenVar": 40
   },
   "kernels_config": {
    "python": {
     "delete_cmd_postfix": "",
     "delete_cmd_prefix": "del ",
     "library": "var_list.py",
     "varRefreshCmd": "print(var_dic_list())"
    },
    "r": {
     "delete_cmd_postfix": ") ",
     "delete_cmd_prefix": "rm(",
     "library": "var_list.r",
     "varRefreshCmd": "cat(var_dic_list()) "
    }
   },
   "types_to_exclude": [
    "module",
    "function",
    "builtin_function_or_method",
    "instance",
    "_Feature"
   ],
   "window_display": false
  }
 },
 "nbformat": 4,
 "nbformat_minor": 1
}
