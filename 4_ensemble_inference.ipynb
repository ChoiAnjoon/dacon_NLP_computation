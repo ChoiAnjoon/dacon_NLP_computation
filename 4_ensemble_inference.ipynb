{
 "cells": [
  {
   "cell_type": "markdown",
   "metadata": {
    "id": "c4Uh9VzNZ7YP"
   },
   "source": [
    "## 구글 드라이브 연결"
   ]
  },
  {
   "cell_type": "code",
   "execution_count": 1,
   "metadata": {
    "colab": {
     "base_uri": "https://localhost:8080/"
    },
    "executionInfo": {
     "elapsed": 433,
     "status": "ok",
     "timestamp": 1629269995650,
     "user": {
      "displayName": "ks l",
      "photoUrl": "",
      "userId": "16305087104321134195"
     },
     "user_tz": -540
    },
    "id": "iMZ66chtsoWs",
    "outputId": "08838cb8-fe2c-49bb-9ead-4a87c91edc0c"
   },
   "outputs": [
    {
     "name": "stdout",
     "output_type": "stream",
     "text": [
      "Drive already mounted at /content/drive; to attempt to forcibly remount, call drive.mount(\"/content/drive\", force_remount=True).\n"
     ]
    }
   ],
   "source": [
    "from google import colab\n",
    "colab.drive.mount(\"/content/drive\")"
   ]
  },
  {
   "cell_type": "markdown",
   "metadata": {
    "id": "XqZeQiYvaDCu"
   },
   "source": [
    "## 데이터 경로"
   ]
  },
  {
   "cell_type": "code",
   "execution_count": 2,
   "metadata": {
    "executionInfo": {
     "elapsed": 3,
     "status": "ok",
     "timestamp": 1629269995651,
     "user": {
      "displayName": "ks l",
      "photoUrl": "",
      "userId": "16305087104321134195"
     },
     "user_tz": -540
    },
    "id": "5YHAsV8Ks1Tm"
   },
   "outputs": [],
   "source": [
    "DATA_PATH = \"/content/drive/MyDrive/dacon/natural_language_based/root_dir/data/\" # dacon 에서 제공한  sample_submission.csv 경로\n",
    "SUBMIT_INPUT_PATH = \"/content/drive/MyDrive/dacon/natural_language_based/root_dir/submit/input/\" # 앙상블 하기위해 예측확률 npy 파일 저장 폴더\n",
    "SUBMIT_OUTPUT_PATH = \"/content/drive/MyDrive/dacon/natural_language_based/root_dir/submit/output/\" #  추론 csv 파일 저장 경로"
   ]
  },
  {
   "cell_type": "markdown",
   "metadata": {
    "id": "EOrE0nMjaFZV"
   },
   "source": [
    "## 라이브러리"
   ]
  },
  {
   "cell_type": "code",
   "execution_count": 3,
   "metadata": {
    "executionInfo": {
     "elapsed": 511,
     "status": "ok",
     "timestamp": 1629269996159,
     "user": {
      "displayName": "ks l",
      "photoUrl": "",
      "userId": "16305087104321134195"
     },
     "user_tz": -540
    },
    "id": "Mdvg2OYqT233"
   },
   "outputs": [],
   "source": [
    "import os\n",
    "import pandas as pd\n",
    "import numpy as np\n",
    "import joblib as jl\n",
    "from glob import glob\n",
    "from scipy.stats.mstats import gmean\n",
    "from scipy import stats"
   ]
  },
  {
   "cell_type": "markdown",
   "metadata": {
    "id": "SVTbrjrtNGrv"
   },
   "source": [
    "## 제출파일 불러오기"
   ]
  },
  {
   "cell_type": "code",
   "execution_count": 4,
   "metadata": {
    "executionInfo": {
     "elapsed": 3,
     "status": "ok",
     "timestamp": 1629269996159,
     "user": {
      "displayName": "ks l",
      "photoUrl": "",
      "userId": "16305087104321134195"
     },
     "user_tz": -540
    },
    "id": "xiA3yGJDs1GP"
   },
   "outputs": [],
   "source": [
    "sample_submission = pd.read_csv(f'{DATA_PATH}sample_submission.csv')"
   ]
  },
  {
   "cell_type": "markdown",
   "metadata": {
    "id": "13rzcamiNKjp"
   },
   "source": [
    "## 예측 확률 npy 파일 불러오기\n"
   ]
  },
  {
   "cell_type": "markdown",
   "metadata": {
    "id": "oUx5HGx2Jt4S"
   },
   "source": [
    "- glob 이용해 SUBMIT_INPUT_PATH 경로에 앙상블 하려는 npy 리스트를 확인한다."
   ]
  },
  {
   "cell_type": "code",
   "execution_count": 5,
   "metadata": {
    "colab": {
     "base_uri": "https://localhost:8080/"
    },
    "executionInfo": {
     "elapsed": 3,
     "status": "ok",
     "timestamp": 1629269996160,
     "user": {
      "displayName": "ks l",
      "photoUrl": "",
      "userId": "16305087104321134195"
     },
     "user_tz": -540
    },
    "id": "zdYVYPKJHnIZ",
    "outputId": "b6a6c797-90ba-4b47-f0b0-8db74a604ceb"
   },
   "outputs": [
    {
     "data": {
      "text/plain": [
       "['/content/drive/MyDrive/dacon/natural_language_based/root_dir/submit/input/soft_ordering_1d_cnn_weights_.npy',\n",
       " '/content/drive/MyDrive/dacon/natural_language_based/root_dir/submit/input/embedding_1d_cnn_weights_.npy',\n",
       " '/content/drive/MyDrive/dacon/natural_language_based/root_dir/submit/input/Submission_V999_KoELECTRA_LAST_LINUX_0.78834_42_P1.csv.npy']"
      ]
     },
     "execution_count": 5,
     "metadata": {
      "tags": []
     },
     "output_type": "execute_result"
    }
   ],
   "source": [
    "ensemble_files = glob(f\"{SUBMIT_INPUT_PATH}*.npy\") # 앙상블 파일 이름 리스트\n",
    "ensemble_files"
   ]
  },
  {
   "cell_type": "code",
   "execution_count": 6,
   "metadata": {
    "colab": {
     "base_uri": "https://localhost:8080/"
    },
    "executionInfo": {
     "elapsed": 631,
     "status": "ok",
     "timestamp": 1629269996788,
     "user": {
      "displayName": "ks l",
      "photoUrl": "",
      "userId": "16305087104321134195"
     },
     "user_tz": -540
    },
    "id": "LY7xJJOr8tYJ",
    "outputId": "d6c6c89d-530a-4c06-ddc7-05869d3de58e"
   },
   "outputs": [
    {
     "name": "stdout",
     "output_type": "stream",
     "text": [
      "(43576, 46)\n",
      "(43576, 46)\n",
      "(43576, 46)\n",
      "(43576, 46)\n",
      "(43576, 46)\n",
      "(43576, 46)\n",
      "(43576, 46)\n",
      "(43576, 46)\n",
      "(43576, 46)\n",
      "(43576, 46)\n",
      "(43576, 46)\n",
      "(43576, 46)\n",
      "(43576, 46)\n",
      "(43576, 46)\n",
      "(43576, 46)\n",
      "15\n"
     ]
    }
   ],
   "source": [
    "pred_list = []\n",
    "for file_name in ensemble_files:\n",
    "    preds = np.load(f'{file_name}')\n",
    "    for pred in preds:\n",
    "        pred_list.append(pred)\n",
    "        print(pred.shape)\n",
    "print(len(pred_list))"
   ]
  },
  {
   "cell_type": "code",
   "execution_count": 7,
   "metadata": {
    "colab": {
     "base_uri": "https://localhost:8080/"
    },
    "executionInfo": {
     "elapsed": 6,
     "status": "ok",
     "timestamp": 1629269996789,
     "user": {
      "displayName": "ks l",
      "photoUrl": "",
      "userId": "16305087104321134195"
     },
     "user_tz": -540
    },
    "id": "YZJT3_uioXBg",
    "outputId": "7771fb59-76a8-4fbf-cb86-d7ffdd6c0458"
   },
   "outputs": [
    {
     "data": {
      "text/plain": [
       "[array([[0.7375743 , 0.00587808, 0.00646074, ..., 0.00485165, 0.00545173,\n",
       "         0.00501023],\n",
       "        [0.7563754 , 0.0053302 , 0.00526017, ..., 0.00547607, 0.00542002,\n",
       "         0.0057315 ],\n",
       "        [0.7592658 , 0.00526209, 0.00529451, ..., 0.00538711, 0.00539186,\n",
       "         0.00583888],\n",
       "        ...,\n",
       "        [0.00821231, 0.02155718, 0.44653597, ..., 0.01032708, 0.01459982,\n",
       "         0.01981444],\n",
       "        [0.7617563 , 0.00513814, 0.00522456, ..., 0.00550524, 0.00541389,\n",
       "         0.00588772],\n",
       "        [0.7451184 , 0.0046098 , 0.0056329 , ..., 0.00555412, 0.00544992,\n",
       "         0.0063657 ]], dtype=float32),\n",
       " array([[0.75951046, 0.00553403, 0.00535744, ..., 0.00545554, 0.00534974,\n",
       "         0.00508338],\n",
       "        [0.7573628 , 0.00542429, 0.00551987, ..., 0.00543564, 0.0053658 ,\n",
       "         0.00524849],\n",
       "        [0.7598265 , 0.00522146, 0.0052259 , ..., 0.00535414, 0.0053789 ,\n",
       "         0.00524905],\n",
       "        ...,\n",
       "        [0.00648158, 0.00552822, 0.7268985 , ..., 0.00831893, 0.00500811,\n",
       "         0.00525572],\n",
       "        [0.74258107, 0.00573242, 0.0055541 , ..., 0.00594173, 0.00523942,\n",
       "         0.00606634],\n",
       "        [0.76712334, 0.00484511, 0.00543745, ..., 0.00538199, 0.00513609,\n",
       "         0.00540135]], dtype=float32),\n",
       " array([[0.7517155 , 0.00498478, 0.00519665, ..., 0.00552026, 0.00606533,\n",
       "         0.00536994],\n",
       "        [0.74608135, 0.00571303, 0.00535001, ..., 0.00582543, 0.00553846,\n",
       "         0.005946  ],\n",
       "        [0.7517076 , 0.00556354, 0.00538093, ..., 0.00555345, 0.00548937,\n",
       "         0.00531756],\n",
       "        ...,\n",
       "        [0.00594481, 0.00493388, 0.789333  , ..., 0.00546906, 0.00380697,\n",
       "         0.00690839],\n",
       "        [0.7551341 , 0.00535134, 0.00525769, ..., 0.00582998, 0.00535107,\n",
       "         0.00552087],\n",
       "        [0.7408607 , 0.00609978, 0.00541103, ..., 0.0056403 , 0.00582738,\n",
       "         0.00572086]], dtype=float32),\n",
       " array([[0.74321425, 0.00693794, 0.00599532, ..., 0.00598742, 0.00579049,\n",
       "         0.00612173],\n",
       "        [0.76396084, 0.00613341, 0.00527181, ..., 0.00529591, 0.00527123,\n",
       "         0.00519134],\n",
       "        [0.76212806, 0.00642881, 0.00527853, ..., 0.00551882, 0.00528286,\n",
       "         0.00526445],\n",
       "        ...,\n",
       "        [0.00458096, 0.01551338, 0.75306404, ..., 0.00472306, 0.00525495,\n",
       "         0.00244045],\n",
       "        [0.76256746, 0.006037  , 0.00533217, ..., 0.00524626, 0.00505876,\n",
       "         0.0053021 ],\n",
       "        [0.75747687, 0.00689051, 0.00516319, ..., 0.00577372, 0.00512705,\n",
       "         0.00561919]], dtype=float32),\n",
       " array([[0.76107913, 0.00542286, 0.0054656 , ..., 0.0051758 , 0.00543153,\n",
       "         0.00531321],\n",
       "        [0.75282454, 0.00560564, 0.00559668, ..., 0.00528623, 0.00542574,\n",
       "         0.00554489],\n",
       "        [0.7529541 , 0.00551997, 0.00552738, ..., 0.00530443, 0.00549274,\n",
       "         0.00549765],\n",
       "        ...,\n",
       "        [0.00804593, 0.00753571, 0.6843728 , ..., 0.00636443, 0.00560006,\n",
       "         0.01130117],\n",
       "        [0.75592834, 0.005603  , 0.00551625, ..., 0.00563741, 0.00548068,\n",
       "         0.00592857],\n",
       "        [0.7442082 , 0.00552573, 0.00523105, ..., 0.00588036, 0.00575074,\n",
       "         0.00604422]], dtype=float32),\n",
       " array([[8.6184943e-01, 3.8561304e-03, 1.7212400e-03, ..., 2.1863447e-03,\n",
       "         2.5216436e-03, 2.9875501e-03],\n",
       "        [8.6244524e-01, 3.2404272e-03, 2.5945788e-03, ..., 2.8321517e-03,\n",
       "         3.4155201e-03, 5.1097069e-03],\n",
       "        [8.9211923e-01, 2.6179929e-03, 2.2526304e-03, ..., 2.4834075e-03,\n",
       "         2.0819167e-03, 2.0725429e-03],\n",
       "        ...,\n",
       "        [1.9443476e-04, 2.2084999e-03, 9.1439748e-01, ..., 2.9659977e-03,\n",
       "         2.4827123e-03, 7.1240327e-04],\n",
       "        [8.8727170e-01, 1.8175616e-03, 2.5073232e-03, ..., 2.8089068e-03,\n",
       "         2.4743038e-03, 1.2009228e-03],\n",
       "        [7.4794352e-01, 4.8793158e-03, 5.7713725e-03, ..., 3.2649569e-03,\n",
       "         3.3406010e-03, 4.7984435e-03]], dtype=float32),\n",
       " array([[0.9261817 , 0.00123926, 0.00128161, ..., 0.00201037, 0.00168667,\n",
       "         0.00111595],\n",
       "        [0.87775946, 0.0032278 , 0.00235477, ..., 0.00353598, 0.0021609 ,\n",
       "         0.00229653],\n",
       "        [0.91051036, 0.00184202, 0.00178698, ..., 0.00201891, 0.00207318,\n",
       "         0.0019672 ],\n",
       "        ...,\n",
       "        [0.00100292, 0.00147821, 0.90159726, ..., 0.00433235, 0.00313934,\n",
       "         0.00134714],\n",
       "        [0.8861004 , 0.00307678, 0.00233608, ..., 0.00368247, 0.001873  ,\n",
       "         0.00244164],\n",
       "        [0.82223135, 0.00280189, 0.0025419 , ..., 0.00384474, 0.00343937,\n",
       "         0.00197915]], dtype=float32),\n",
       " array([[0.92464525, 0.00214525, 0.00201126, ..., 0.00108207, 0.0020962 ,\n",
       "         0.0023084 ],\n",
       "        [0.8933329 , 0.00261372, 0.00296008, ..., 0.00141935, 0.00192976,\n",
       "         0.00274173],\n",
       "        [0.862737  , 0.00277576, 0.00243681, ..., 0.00276224, 0.00271064,\n",
       "         0.00396773],\n",
       "        ...,\n",
       "        [0.03008517, 0.00264253, 0.8098607 , ..., 0.00446703, 0.00447522,\n",
       "         0.00253678],\n",
       "        [0.84686136, 0.00300371, 0.00317611, ..., 0.00247983, 0.00316687,\n",
       "         0.00233252],\n",
       "        [0.82884336, 0.00307594, 0.00324018, ..., 0.00200675, 0.00253303,\n",
       "         0.00448854]], dtype=float32),\n",
       " array([[9.4190407e-01, 7.7544432e-04, 8.3975488e-04, ..., 1.4262402e-03,\n",
       "         1.1543215e-03, 3.8770400e-03],\n",
       "        [8.9591366e-01, 2.5371881e-03, 2.3099473e-03, ..., 1.8751052e-03,\n",
       "         2.2425135e-03, 2.5844178e-03],\n",
       "        [8.9649349e-01, 1.5756751e-03, 1.9884324e-03, ..., 2.3152458e-03,\n",
       "         1.8874120e-03, 2.2659027e-03],\n",
       "        ...,\n",
       "        [5.1908372e-03, 5.1769661e-03, 8.4600711e-01, ..., 1.9835862e-03,\n",
       "         2.6100809e-03, 1.2488343e-03],\n",
       "        [9.0314925e-01, 2.3999126e-03, 2.1593294e-03, ..., 3.4202107e-03,\n",
       "         1.5854065e-03, 1.3920320e-03],\n",
       "        [7.9827070e-01, 2.9027902e-03, 3.7634510e-03, ..., 3.5198089e-03,\n",
       "         3.2934309e-03, 4.5849681e-03]], dtype=float32),\n",
       " array([[9.1839904e-01, 1.9940708e-03, 1.1801254e-03, ..., 3.3526551e-03,\n",
       "         1.5985208e-03, 2.3964632e-03],\n",
       "        [8.2423568e-01, 5.0602080e-03, 3.4834549e-03, ..., 5.8559221e-03,\n",
       "         2.8711406e-03, 4.0470846e-03],\n",
       "        [9.1248232e-01, 2.2964075e-03, 1.9917628e-03, ..., 2.2685914e-03,\n",
       "         2.3498132e-03, 1.8309086e-03],\n",
       "        ...,\n",
       "        [3.1631438e-03, 3.3519727e-03, 8.9169413e-01, ..., 2.3050238e-03,\n",
       "         1.6169829e-03, 3.7449022e-04],\n",
       "        [8.0054772e-01, 3.7608468e-03, 3.8043209e-03, ..., 6.9802864e-03,\n",
       "         2.5779663e-03, 6.1761132e-03],\n",
       "        [8.5455197e-01, 2.6100506e-03, 2.5989027e-03, ..., 3.0659188e-03,\n",
       "         3.0290741e-03, 4.2586913e-03]], dtype=float32),\n",
       " array([[9.75916147e-01, 1.44024159e-06, 7.00788917e-07, ...,\n",
       "         1.22337324e-05, 1.88260117e-06, 1.19569231e-05],\n",
       "        [9.99996543e-01, 2.28841088e-08, 2.44921083e-09, ...,\n",
       "         1.73482206e-08, 1.62194898e-08, 6.23509322e-07],\n",
       "        [9.99992132e-01, 2.36014657e-08, 3.81766840e-09, ...,\n",
       "         1.55331552e-08, 1.39370187e-08, 4.42658688e-07],\n",
       "        ...,\n",
       "        [2.72836682e-04, 4.01614707e-05, 9.97928858e-01, ...,\n",
       "         2.09674890e-05, 1.04028724e-04, 6.25962784e-05],\n",
       "        [9.99992371e-01, 2.43851463e-08, 2.83148793e-09, ...,\n",
       "         1.85305762e-08, 1.22966206e-08, 3.23310701e-07],\n",
       "        [9.37061131e-01, 1.53692963e-05, 3.52373650e-06, ...,\n",
       "         1.24449552e-05, 2.07546123e-06, 2.33776555e-05]], dtype=float32),\n",
       " array([[2.97996551e-01, 6.13719894e-05, 1.97247409e-05, ...,\n",
       "         1.66937316e-05, 4.39724208e-05, 2.19578695e-04],\n",
       "        [9.99998331e-01, 1.47359325e-08, 1.15838683e-09, ...,\n",
       "         1.50864210e-09, 5.13642961e-10, 5.86180171e-08],\n",
       "        [9.99997258e-01, 1.84363902e-08, 1.10141107e-09, ...,\n",
       "         1.40521195e-09, 4.77065720e-10, 7.61236976e-08],\n",
       "        ...,\n",
       "        [5.51583835e-05, 1.62471315e-05, 9.99672532e-01, ...,\n",
       "         3.78882334e-07, 5.66551034e-06, 2.62298181e-06],\n",
       "        [9.99994993e-01, 4.61079672e-08, 6.93890367e-09, ...,\n",
       "         4.89965091e-09, 8.79656792e-10, 1.00791112e-07],\n",
       "        [9.99965787e-01, 6.85612065e-08, 9.47174517e-09, ...,\n",
       "         1.44429677e-08, 4.52262450e-09, 3.04240530e-07]], dtype=float32),\n",
       " array([[7.5368696e-01, 1.9348405e-04, 1.5255164e-05, ..., 2.5017396e-05,\n",
       "         1.7713430e-05, 2.1211716e-04],\n",
       "        [9.9999928e-01, 6.0922769e-09, 5.6820473e-09, ..., 1.9139689e-08,\n",
       "         6.2613448e-10, 2.9936967e-08],\n",
       "        [9.9999797e-01, 2.4615114e-08, 1.0053558e-08, ..., 1.1177002e-08,\n",
       "         1.1782034e-09, 5.0666991e-08],\n",
       "        ...,\n",
       "        [6.5816326e-05, 5.1218753e-06, 9.9976760e-01, ..., 2.6573170e-08,\n",
       "         2.3672553e-07, 1.9280178e-06],\n",
       "        [9.9999905e-01, 6.1546532e-09, 7.9778708e-09, ..., 8.6426404e-09,\n",
       "         9.3731445e-10, 3.4666360e-08],\n",
       "        [9.9997544e-01, 2.9036995e-08, 1.1235556e-08, ..., 1.9045924e-08,\n",
       "         5.1015929e-09, 2.5857909e-07]], dtype=float32),\n",
       " array([[9.9045241e-01, 8.6177442e-06, 6.4032309e-07, ..., 2.5120517e-06,\n",
       "         6.3922243e-07, 3.0622548e-05],\n",
       "        [9.9999869e-01, 2.2680263e-08, 8.2666762e-09, ..., 2.2838760e-08,\n",
       "         2.0520206e-09, 1.8441136e-07],\n",
       "        [9.9997151e-01, 2.1373860e-07, 8.0514489e-08, ..., 4.7309445e-08,\n",
       "         6.2654255e-09, 3.7090672e-07],\n",
       "        ...,\n",
       "        [3.0384555e-05, 2.7867961e-06, 9.9980479e-01, ..., 9.6537718e-08,\n",
       "         1.1099131e-06, 4.6826162e-06],\n",
       "        [9.9999726e-01, 2.8404228e-08, 1.0449874e-08, ..., 2.3655391e-08,\n",
       "         3.0909857e-09, 3.8409632e-07],\n",
       "        [9.9997211e-01, 8.3883201e-08, 9.7744834e-09, ..., 1.9372342e-08,\n",
       "         5.1187894e-09, 5.4436032e-07]], dtype=float32),\n",
       " array([[9.94073093e-01, 1.80121497e-05, 5.44193199e-07, ...,\n",
       "         2.38607959e-06, 7.02065620e-07, 4.21899540e-06],\n",
       "        [9.99997258e-01, 5.85990989e-08, 7.38819539e-09, ...,\n",
       "         2.21256240e-08, 7.93651367e-09, 2.77132131e-08],\n",
       "        [9.99984264e-01, 3.52391396e-07, 2.60535433e-08, ...,\n",
       "         9.04109498e-08, 2.76509535e-08, 1.73844882e-07],\n",
       "        ...,\n",
       "        [3.50723945e-04, 1.22464044e-05, 9.99380529e-01, ...,\n",
       "         3.86622742e-06, 6.03012666e-07, 8.61483750e-06],\n",
       "        [9.99975324e-01, 2.78226906e-07, 4.90436243e-08, ...,\n",
       "         1.44090507e-07, 3.12334194e-08, 6.85288839e-08],\n",
       "        [9.99969363e-01, 6.56609132e-07, 4.29772555e-08, ...,\n",
       "         1.02612276e-07, 3.93164008e-08, 9.58908188e-08]], dtype=float32)]"
      ]
     },
     "execution_count": 7,
     "metadata": {
      "tags": []
     },
     "output_type": "execute_result"
    }
   ],
   "source": [
    "pred_list"
   ]
  },
  {
   "cell_type": "markdown",
   "metadata": {
    "id": "23gDzw0mNW-8"
   },
   "source": [
    "## 앙상블 후  class 값 반환\n",
    "- p = 0 : 기하평균\n",
    "- p = 1 : 산술평균\n",
    "- p != 0 & p != 1  : 멱평균"
   ]
  },
  {
   "cell_type": "code",
   "execution_count": 8,
   "metadata": {
    "executionInfo": {
     "elapsed": 5,
     "status": "ok",
     "timestamp": 1629269996790,
     "user": {
      "displayName": "ks l",
      "photoUrl": "",
      "userId": "16305087104321134195"
     },
     "user_tz": -540
    },
    "id": "2CcQEuXhDT6W"
   },
   "outputs": [],
   "source": [
    "def get_ensemble_pred( pred_list ,  p = 1):\n",
    "    if p == 0:\n",
    "        pred = gmean(pred_list, axis=0)\n",
    "    else:\n",
    "        pred_list = [ pred **p for pred in pred_list ]\n",
    "        pred = (  np.sum(pred_list,axis=0) / len(pred_list)  ) ** (1/p)\n",
    "    pred = np.argmax(pred,axis=1)\n",
    "    return pred"
   ]
  },
  {
   "cell_type": "markdown",
   "metadata": {
    "id": "Ir_EInA2GBxo"
   },
   "source": [
    "## 산술 평균후 1등확률과 2등확률의 차이가 크지 않을 경우 2등확률의 클래스로 변경"
   ]
  },
  {
   "cell_type": "code",
   "execution_count": 9,
   "metadata": {
    "executionInfo": {
     "elapsed": 5,
     "status": "ok",
     "timestamp": 1629269996790,
     "user": {
      "displayName": "ks l",
      "photoUrl": "",
      "userId": "16305087104321134195"
     },
     "user_tz": -540
    },
    "id": "D6ChKosE5bdH"
   },
   "outputs": [],
   "source": [
    "def get_second_label(pred,deviation = 0.1 , label_list = [11 ,17 ,20 ,41 ,42]):\n",
    "    idx_2 = np.argsort(pred,axis=1)[:,-2] # 2등 클래스\n",
    "    idx_1 = np.argsort(pred,axis=1)[:,-1] # 1등 클래스\n",
    "    list_ = []\n",
    "    i = 0\n",
    "    for i1,i2 in zip(idx_1,idx_2):\n",
    "        abs_ = np.abs(pred[i,i1] - pred[i,i2]) # 1등 확률과 2등 확률의 차이\n",
    "        is_bool = False\n",
    "        if abs_ < deviation and i1 == 0: # deviation 미만 and 1등 클래스가 0일 경우\n",
    "            is_bool = True\n",
    "        list_.append(is_bool)\n",
    "        i += 1\n",
    "    cond1 = np.array(list_)\n",
    "\n",
    "    cond2 = np.isin(np.argsort(pred,axis=1)[:,-2],label_list) # 2등확률의 클래스가 label_list에 있을 경우\n",
    "    cond = cond1 & cond2 # deviation 미만 and 1등 클래스가 0일 경우 and 2등확률의 클래스가 label_list에 있을 경우\n",
    "    tmp = pred[cond] # 만족하는 조건의 numpy 배열 생성\n",
    "    print(f\"변경 되는 개수 : {tmp.shape[0]}\") # 변경되는 갯수 확인\n",
    "    return ( cond , np.argsort(tmp,axis=1)[:,-2] ) # bool index 배열과, 조건에 맞는 2등 확률 클래스 배열 리턴"
   ]
  },
  {
   "cell_type": "markdown",
   "metadata": {
    "id": "o-rXVD2sRj3f"
   },
   "source": [
    "## 예측 확률 리스트 전달 및 앙상블"
   ]
  },
  {
   "cell_type": "markdown",
   "metadata": {
    "id": "RO2n6d2vI2w_"
   },
   "source": [
    "- 기본값 산술평균"
   ]
  },
  {
   "cell_type": "code",
   "execution_count": 10,
   "metadata": {
    "executionInfo": {
     "elapsed": 5,
     "status": "ok",
     "timestamp": 1629269996790,
     "user": {
      "displayName": "ks l",
      "photoUrl": "",
      "userId": "16305087104321134195"
     },
     "user_tz": -540
    },
    "id": "zh7hhVH3IrMF"
   },
   "outputs": [],
   "source": [
    "ensemble_type = \"\"\n",
    "p = 1"
   ]
  },
  {
   "cell_type": "markdown",
   "metadata": {
    "id": "XTj_4t_nIVtT"
   },
   "source": [
    "- 클래스값 변경\n",
    "    - 리더보드 최고 점수를 재현하기위한 조건\n",
    "    - 1등확률클래스 == 0 and (1등확률 - 2등확률) < 0.3 and 2등확률클래스 in [11 ,12, 16,17 ,20 ,25,26 ,32,41 ,42]"
   ]
  },
  {
   "cell_type": "code",
   "execution_count": 23,
   "metadata": {
    "executionInfo": {
     "elapsed": 317,
     "status": "ok",
     "timestamp": 1629270340081,
     "user": {
      "displayName": "ks l",
      "photoUrl": "",
      "userId": "16305087104321134195"
     },
     "user_tz": -540
    },
    "id": "6ZXkLwuYExDW"
   },
   "outputs": [],
   "source": [
    "# 이셀을 주석처리하면 산술평균으로 앙상블 합니다.\n",
    "ensemble_type = \"class_change\" \n",
    "deviation = 0.3  # 1등확률과 2등확률의 차이 threshold\n",
    "label_list = [11 ,12, 16,17 ,20 ,25,26 ,32,41 ,42] # 검증에서...recall 이 상대적으로 낮은 클래스 10개"
   ]
  },
  {
   "cell_type": "code",
   "execution_count": 12,
   "metadata": {
    "colab": {
     "base_uri": "https://localhost:8080/"
    },
    "executionInfo": {
     "elapsed": 459,
     "status": "ok",
     "timestamp": 1629269997245,
     "user": {
      "displayName": "ks l",
      "photoUrl": "",
      "userId": "16305087104321134195"
     },
     "user_tz": -540
    },
    "id": "X7cLn4cMfd0D",
    "outputId": "b9b64c24-d497-48b7-f74f-dc197da9164c"
   },
   "outputs": [
    {
     "name": "stdout",
     "output_type": "stream",
     "text": [
      "변경 되는 개수 : 136\n"
     ]
    },
    {
     "data": {
      "text/plain": [
       "(array([0, 0, 0, ..., 2, 0, 0]), (43576,))"
      ]
     },
     "execution_count": 12,
     "metadata": {
      "tags": []
     },
     "output_type": "execute_result"
    }
   ],
   "source": [
    "if ensemble_type == \"class_change\":\n",
    "    pred_test = np.mean(pred_list,axis=0) # 산술평균 \n",
    "    pred = np.argmax( pred_test ,axis=1) # argmax\n",
    "    cond , labels = get_second_label( pred_test,deviation = deviation , label_list = label_list ) \n",
    "    pred[cond] = labels # 조건에 맞는 클래스만 2등확률의 클래스로 변경\n",
    "else:\n",
    "    pred = get_ensemble_pred(pred_list, p=p)\n",
    "    \n",
    "pred , pred.shape"
   ]
  },
  {
   "cell_type": "markdown",
   "metadata": {
    "id": "0aL6AFacGTpH"
   },
   "source": [
    "## 제출파일"
   ]
  },
  {
   "cell_type": "code",
   "execution_count": 13,
   "metadata": {
    "colab": {
     "base_uri": "https://localhost:8080/",
     "height": 419
    },
    "executionInfo": {
     "elapsed": 5,
     "status": "ok",
     "timestamp": 1629269997246,
     "user": {
      "displayName": "ks l",
      "photoUrl": "",
      "userId": "16305087104321134195"
     },
     "user_tz": -540
    },
    "id": "96ojaw6NEUU3",
    "outputId": "d9e74112-8dc8-4e34-8157-8da46a6a2729"
   },
   "outputs": [
    {
     "data": {
      "text/html": [
       "<div>\n",
       "<style scoped>\n",
       "    .dataframe tbody tr th:only-of-type {\n",
       "        vertical-align: middle;\n",
       "    }\n",
       "\n",
       "    .dataframe tbody tr th {\n",
       "        vertical-align: top;\n",
       "    }\n",
       "\n",
       "    .dataframe thead th {\n",
       "        text-align: right;\n",
       "    }\n",
       "</style>\n",
       "<table border=\"1\" class=\"dataframe\">\n",
       "  <thead>\n",
       "    <tr style=\"text-align: right;\">\n",
       "      <th></th>\n",
       "      <th>index</th>\n",
       "      <th>label</th>\n",
       "    </tr>\n",
       "  </thead>\n",
       "  <tbody>\n",
       "    <tr>\n",
       "      <th>0</th>\n",
       "      <td>174304</td>\n",
       "      <td>0</td>\n",
       "    </tr>\n",
       "    <tr>\n",
       "      <th>1</th>\n",
       "      <td>174305</td>\n",
       "      <td>0</td>\n",
       "    </tr>\n",
       "    <tr>\n",
       "      <th>2</th>\n",
       "      <td>174306</td>\n",
       "      <td>0</td>\n",
       "    </tr>\n",
       "    <tr>\n",
       "      <th>3</th>\n",
       "      <td>174307</td>\n",
       "      <td>0</td>\n",
       "    </tr>\n",
       "    <tr>\n",
       "      <th>4</th>\n",
       "      <td>174308</td>\n",
       "      <td>0</td>\n",
       "    </tr>\n",
       "    <tr>\n",
       "      <th>...</th>\n",
       "      <td>...</td>\n",
       "      <td>...</td>\n",
       "    </tr>\n",
       "    <tr>\n",
       "      <th>43571</th>\n",
       "      <td>217875</td>\n",
       "      <td>0</td>\n",
       "    </tr>\n",
       "    <tr>\n",
       "      <th>43572</th>\n",
       "      <td>217876</td>\n",
       "      <td>0</td>\n",
       "    </tr>\n",
       "    <tr>\n",
       "      <th>43573</th>\n",
       "      <td>217877</td>\n",
       "      <td>2</td>\n",
       "    </tr>\n",
       "    <tr>\n",
       "      <th>43574</th>\n",
       "      <td>217878</td>\n",
       "      <td>0</td>\n",
       "    </tr>\n",
       "    <tr>\n",
       "      <th>43575</th>\n",
       "      <td>217879</td>\n",
       "      <td>0</td>\n",
       "    </tr>\n",
       "  </tbody>\n",
       "</table>\n",
       "<p>43576 rows × 2 columns</p>\n",
       "</div>"
      ],
      "text/plain": [
       "        index  label\n",
       "0      174304      0\n",
       "1      174305      0\n",
       "2      174306      0\n",
       "3      174307      0\n",
       "4      174308      0\n",
       "...       ...    ...\n",
       "43571  217875      0\n",
       "43572  217876      0\n",
       "43573  217877      2\n",
       "43574  217878      0\n",
       "43575  217879      0\n",
       "\n",
       "[43576 rows x 2 columns]"
      ]
     },
     "execution_count": 13,
     "metadata": {
      "tags": []
     },
     "output_type": "execute_result"
    }
   ],
   "source": [
    "sample_submission[\"label\"] = pred\n",
    "sample_submission"
   ]
  },
  {
   "cell_type": "code",
   "execution_count": 14,
   "metadata": {
    "colab": {
     "base_uri": "https://localhost:8080/"
    },
    "executionInfo": {
     "elapsed": 480,
     "status": "ok",
     "timestamp": 1629270000287,
     "user": {
      "displayName": "ks l",
      "photoUrl": "",
      "userId": "16305087104321134195"
     },
     "user_tz": -540
    },
    "id": "fHf5FdjTg1Mf",
    "outputId": "88c5c7a6-a7ae-4026-b018-07d4b4ffcfc5"
   },
   "outputs": [
    {
     "name": "stdout",
     "output_type": "stream",
     "text": [
      "끝\n"
     ]
    }
   ],
   "source": [
    "sample_submission.to_csv(f'{SUBMIT_OUTPUT_PATH}ensemble_inference.csv', index=False)\n",
    "print(\"끝\")"
   ]
  },
  {
   "cell_type": "markdown",
   "metadata": {
    "id": "BUUTQT3V7I8_"
   },
   "source": [
    "# 좋은 대회 열어 주셔서 감사드립니다."
   ]
  }
 ],
 "metadata": {
  "colab": {
   "collapsed_sections": [],
   "name": "ensemble_inference.ipynb",
   "provenance": []
  },
  "kernelspec": {
   "display_name": "Python 3",
   "language": "python",
   "name": "python3"
  },
  "language_info": {
   "codemirror_mode": {
    "name": "ipython",
    "version": 3
   },
   "file_extension": ".py",
   "mimetype": "text/x-python",
   "name": "python",
   "nbconvert_exporter": "python",
   "pygments_lexer": "ipython3",
   "version": "3.7.9"
  },
  "toc": {
   "base_numbering": 1,
   "nav_menu": {},
   "number_sections": true,
   "sideBar": true,
   "skip_h1_title": false,
   "title_cell": "Table of Contents",
   "title_sidebar": "Contents",
   "toc_cell": false,
   "toc_position": {},
   "toc_section_display": true,
   "toc_window_display": false
  },
  "varInspector": {
   "cols": {
    "lenName": 16,
    "lenType": 16,
    "lenVar": 40
   },
   "kernels_config": {
    "python": {
     "delete_cmd_postfix": "",
     "delete_cmd_prefix": "del ",
     "library": "var_list.py",
     "varRefreshCmd": "print(var_dic_list())"
    },
    "r": {
     "delete_cmd_postfix": ") ",
     "delete_cmd_prefix": "rm(",
     "library": "var_list.r",
     "varRefreshCmd": "cat(var_dic_list()) "
    }
   },
   "types_to_exclude": [
    "module",
    "function",
    "builtin_function_or_method",
    "instance",
    "_Feature"
   ],
   "window_display": false
  }
 },
 "nbformat": 4,
 "nbformat_minor": 1
}
